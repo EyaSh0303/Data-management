{
 "cells": [
  {
   "cell_type": "markdown",
   "metadata": {},
   "source": [
    "# Projet de Data Management : Gestion d'un fonds Multi-Asset\n",
    "\n",
    "**Période de simulation :** 01-01-2023 – 31-12-2024  \n",
    "**Auteurs :** SHILI Eya, CHERIFI Dhelia, BOUSSELMAME Adam\n",
    "\n",
    "---\n",
    "\n",
    "## Description\n",
    "\n",
    "Ce notebook orchestre l'exécution du pipeline complet, qui comprend :\n",
    "\n",
    "- **Création et peuplement de la base de données**\n",
    "- **Acquisition et préparation des données**\n",
    "- **Exécution des stratégies d'investissement**  \n",
    "  *(Low Volatility, Low Turnover, Equity Only)*\n",
    "- **Mise à jour des portefeuilles et enregistrement des deals**\n",
    "- **Évaluation finale des performances**\n",
    "\n",
    "---\n",
    "\n",
    "*Ce notebook sert de point d'entrée pour lancer et suivre l'ensemble du processus de gestion du fonds multi-asset sur la période de simulation.*\n"
   ]
  },
  {
   "cell_type": "code",
   "execution_count": 1,
   "metadata": {},
   "outputs": [
    {
     "name": "stdout",
     "output_type": "stream",
     "text": [
      "=== Initialisation des bases de données ===\n",
      "Bases de données initialisées.\n",
      "\n",
      "[1/177] Importation de AAPL\n",
      "YF.download() has changed argument auto_adjust default to True\n"
     ]
    },
    {
     "name": "stderr",
     "output_type": "stream",
     "text": [
      "[*********************100%***********************]  1 of 1 completed\n"
     ]
    },
    {
     "name": "stdout",
     "output_type": "stream",
     "text": [
      "[2/177] Importation de MSFT\n"
     ]
    },
    {
     "name": "stderr",
     "output_type": "stream",
     "text": [
      "[*********************100%***********************]  1 of 1 completed\n"
     ]
    },
    {
     "name": "stdout",
     "output_type": "stream",
     "text": [
      "[3/177] Importation de GOOGL\n"
     ]
    },
    {
     "name": "stderr",
     "output_type": "stream",
     "text": [
      "[*********************100%***********************]  1 of 1 completed\n"
     ]
    },
    {
     "name": "stdout",
     "output_type": "stream",
     "text": [
      "[4/177] Importation de AMZN\n"
     ]
    },
    {
     "name": "stderr",
     "output_type": "stream",
     "text": [
      "[*********************100%***********************]  1 of 1 completed\n"
     ]
    },
    {
     "name": "stdout",
     "output_type": "stream",
     "text": [
      "[5/177] Importation de TSLA\n"
     ]
    },
    {
     "name": "stderr",
     "output_type": "stream",
     "text": [
      "[*********************100%***********************]  1 of 1 completed\n"
     ]
    },
    {
     "name": "stdout",
     "output_type": "stream",
     "text": [
      "[6/177] Importation de META\n"
     ]
    },
    {
     "name": "stderr",
     "output_type": "stream",
     "text": [
      "[*********************100%***********************]  1 of 1 completed\n"
     ]
    },
    {
     "name": "stdout",
     "output_type": "stream",
     "text": [
      "[7/177] Importation de NVDA\n"
     ]
    },
    {
     "name": "stderr",
     "output_type": "stream",
     "text": [
      "[*********************100%***********************]  1 of 1 completed\n",
      "[*********************100%***********************]  1 of 1 completed"
     ]
    },
    {
     "name": "stdout",
     "output_type": "stream",
     "text": [
      "[8/177] Importation de BRK-A\n"
     ]
    },
    {
     "name": "stderr",
     "output_type": "stream",
     "text": [
      "\n"
     ]
    },
    {
     "name": "stdout",
     "output_type": "stream",
     "text": [
      "[9/177] Importation de JPM\n"
     ]
    },
    {
     "name": "stderr",
     "output_type": "stream",
     "text": [
      "[*********************100%***********************]  1 of 1 completed\n"
     ]
    },
    {
     "name": "stdout",
     "output_type": "stream",
     "text": [
      "[10/177] Importation de V\n"
     ]
    },
    {
     "name": "stderr",
     "output_type": "stream",
     "text": [
      "[*********************100%***********************]  1 of 1 completed\n"
     ]
    },
    {
     "name": "stdout",
     "output_type": "stream",
     "text": [
      "[11/177] Importation de JNJ\n"
     ]
    },
    {
     "name": "stderr",
     "output_type": "stream",
     "text": [
      "[*********************100%***********************]  1 of 1 completed\n"
     ]
    },
    {
     "name": "stdout",
     "output_type": "stream",
     "text": [
      "[12/177] Importation de WMT\n"
     ]
    },
    {
     "name": "stderr",
     "output_type": "stream",
     "text": [
      "[*********************100%***********************]  1 of 1 completed\n"
     ]
    },
    {
     "name": "stdout",
     "output_type": "stream",
     "text": [
      "[13/177] Importation de PG\n"
     ]
    },
    {
     "name": "stderr",
     "output_type": "stream",
     "text": [
      "[*********************100%***********************]  1 of 1 completed\n"
     ]
    },
    {
     "name": "stdout",
     "output_type": "stream",
     "text": [
      "[14/177] Importation de UNH\n"
     ]
    },
    {
     "name": "stderr",
     "output_type": "stream",
     "text": [
      "[*********************100%***********************]  1 of 1 completed\n"
     ]
    },
    {
     "name": "stdout",
     "output_type": "stream",
     "text": [
      "[15/177] Importation de MA\n"
     ]
    },
    {
     "name": "stderr",
     "output_type": "stream",
     "text": [
      "[*********************100%***********************]  1 of 1 completed\n"
     ]
    },
    {
     "name": "stdout",
     "output_type": "stream",
     "text": [
      "[16/177] Importation de DIS\n"
     ]
    },
    {
     "name": "stderr",
     "output_type": "stream",
     "text": [
      "[*********************100%***********************]  1 of 1 completed\n"
     ]
    },
    {
     "name": "stdout",
     "output_type": "stream",
     "text": [
      "[17/177] Importation de HD\n"
     ]
    },
    {
     "name": "stderr",
     "output_type": "stream",
     "text": [
      "[*********************100%***********************]  1 of 1 completed\n"
     ]
    },
    {
     "name": "stdout",
     "output_type": "stream",
     "text": [
      "[18/177] Importation de BAC\n"
     ]
    },
    {
     "name": "stderr",
     "output_type": "stream",
     "text": [
      "[*********************100%***********************]  1 of 1 completed\n"
     ]
    },
    {
     "name": "stdout",
     "output_type": "stream",
     "text": [
      "[19/177] Importation de XOM\n"
     ]
    },
    {
     "name": "stderr",
     "output_type": "stream",
     "text": [
      "[*********************100%***********************]  1 of 1 completed\n"
     ]
    },
    {
     "name": "stdout",
     "output_type": "stream",
     "text": [
      "[20/177] Importation de PFE\n"
     ]
    },
    {
     "name": "stderr",
     "output_type": "stream",
     "text": [
      "[*********************100%***********************]  1 of 1 completed\n"
     ]
    },
    {
     "name": "stdout",
     "output_type": "stream",
     "text": [
      "[21/177] Importation de KO\n"
     ]
    },
    {
     "name": "stderr",
     "output_type": "stream",
     "text": [
      "[*********************100%***********************]  1 of 1 completed\n"
     ]
    },
    {
     "name": "stdout",
     "output_type": "stream",
     "text": [
      "[22/177] Importation de PEP\n"
     ]
    },
    {
     "name": "stderr",
     "output_type": "stream",
     "text": [
      "[*********************100%***********************]  1 of 1 completed\n"
     ]
    },
    {
     "name": "stdout",
     "output_type": "stream",
     "text": [
      "[23/177] Importation de CSCO\n"
     ]
    },
    {
     "name": "stderr",
     "output_type": "stream",
     "text": [
      "[*********************100%***********************]  1 of 1 completed\n"
     ]
    },
    {
     "name": "stdout",
     "output_type": "stream",
     "text": [
      "[24/177] Importation de ADBE\n"
     ]
    },
    {
     "name": "stderr",
     "output_type": "stream",
     "text": [
      "[*********************100%***********************]  1 of 1 completed\n",
      "[*********************100%***********************]  1 of 1 completed"
     ]
    },
    {
     "name": "stdout",
     "output_type": "stream",
     "text": [
      "[25/177] Importation de NFLX\n"
     ]
    },
    {
     "name": "stderr",
     "output_type": "stream",
     "text": [
      "\n"
     ]
    },
    {
     "name": "stdout",
     "output_type": "stream",
     "text": [
      "[26/177] Importation de CMCSA\n"
     ]
    },
    {
     "name": "stderr",
     "output_type": "stream",
     "text": [
      "[*********************100%***********************]  1 of 1 completed\n"
     ]
    },
    {
     "name": "stdout",
     "output_type": "stream",
     "text": [
      "[27/177] Importation de NKE\n"
     ]
    },
    {
     "name": "stderr",
     "output_type": "stream",
     "text": [
      "[*********************100%***********************]  1 of 1 completed\n"
     ]
    },
    {
     "name": "stdout",
     "output_type": "stream",
     "text": [
      "[28/177] Importation de ABT\n"
     ]
    },
    {
     "name": "stderr",
     "output_type": "stream",
     "text": [
      "[*********************100%***********************]  1 of 1 completed\n"
     ]
    },
    {
     "name": "stdout",
     "output_type": "stream",
     "text": [
      "[29/177] Importation de T\n"
     ]
    },
    {
     "name": "stderr",
     "output_type": "stream",
     "text": [
      "[*********************100%***********************]  1 of 1 completed\n"
     ]
    },
    {
     "name": "stdout",
     "output_type": "stream",
     "text": [
      "[30/177] Importation de CRM\n"
     ]
    },
    {
     "name": "stderr",
     "output_type": "stream",
     "text": [
      "[*********************100%***********************]  1 of 1 completed\n"
     ]
    },
    {
     "name": "stdout",
     "output_type": "stream",
     "text": [
      "[31/177] Importation de ORCL\n"
     ]
    },
    {
     "name": "stderr",
     "output_type": "stream",
     "text": [
      "[*********************100%***********************]  1 of 1 completed\n"
     ]
    },
    {
     "name": "stdout",
     "output_type": "stream",
     "text": [
      "[32/177] Importation de COST\n"
     ]
    },
    {
     "name": "stderr",
     "output_type": "stream",
     "text": [
      "[*********************100%***********************]  1 of 1 completed\n"
     ]
    },
    {
     "name": "stdout",
     "output_type": "stream",
     "text": [
      "[33/177] Importation de VZ\n"
     ]
    },
    {
     "name": "stderr",
     "output_type": "stream",
     "text": [
      "[*********************100%***********************]  1 of 1 completed\n"
     ]
    },
    {
     "name": "stdout",
     "output_type": "stream",
     "text": [
      "[34/177] Importation de MRK\n"
     ]
    },
    {
     "name": "stderr",
     "output_type": "stream",
     "text": [
      "[*********************100%***********************]  1 of 1 completed\n"
     ]
    },
    {
     "name": "stdout",
     "output_type": "stream",
     "text": [
      "[35/177] Importation de LLY\n"
     ]
    },
    {
     "name": "stderr",
     "output_type": "stream",
     "text": [
      "[*********************100%***********************]  1 of 1 completed\n"
     ]
    },
    {
     "name": "stdout",
     "output_type": "stream",
     "text": [
      "[36/177] Importation de INTC\n"
     ]
    },
    {
     "name": "stderr",
     "output_type": "stream",
     "text": [
      "[*********************100%***********************]  1 of 1 completed\n"
     ]
    },
    {
     "name": "stdout",
     "output_type": "stream",
     "text": [
      "[37/177] Importation de CCI\n"
     ]
    },
    {
     "name": "stderr",
     "output_type": "stream",
     "text": [
      "[*********************100%***********************]  1 of 1 completed\n"
     ]
    },
    {
     "name": "stdout",
     "output_type": "stream",
     "text": [
      "[38/177] Importation de KR\n"
     ]
    },
    {
     "name": "stderr",
     "output_type": "stream",
     "text": [
      "[*********************100%***********************]  1 of 1 completed\n"
     ]
    },
    {
     "name": "stdout",
     "output_type": "stream",
     "text": [
      "[39/177] Importation de WBA\n"
     ]
    },
    {
     "name": "stderr",
     "output_type": "stream",
     "text": [
      "[*********************100%***********************]  1 of 1 completed\n"
     ]
    },
    {
     "name": "stdout",
     "output_type": "stream",
     "text": [
      "[40/177] Importation de BIIB\n"
     ]
    },
    {
     "name": "stderr",
     "output_type": "stream",
     "text": [
      "[*********************100%***********************]  1 of 1 completed\n"
     ]
    },
    {
     "name": "stdout",
     "output_type": "stream",
     "text": [
      "[41/177] Importation de BMY\n"
     ]
    },
    {
     "name": "stderr",
     "output_type": "stream",
     "text": [
      "[*********************100%***********************]  1 of 1 completed\n"
     ]
    },
    {
     "name": "stdout",
     "output_type": "stream",
     "text": [
      "[42/177] Importation de VRTX\n"
     ]
    },
    {
     "name": "stderr",
     "output_type": "stream",
     "text": [
      "[*********************100%***********************]  1 of 1 completed\n"
     ]
    },
    {
     "name": "stdout",
     "output_type": "stream",
     "text": [
      "[43/177] Importation de GILD\n"
     ]
    },
    {
     "name": "stderr",
     "output_type": "stream",
     "text": [
      "[*********************100%***********************]  1 of 1 completed\n"
     ]
    },
    {
     "name": "stdout",
     "output_type": "stream",
     "text": [
      "[44/177] Importation de EW\n"
     ]
    },
    {
     "name": "stderr",
     "output_type": "stream",
     "text": [
      "[*********************100%***********************]  1 of 1 completed\n"
     ]
    },
    {
     "name": "stdout",
     "output_type": "stream",
     "text": [
      "[45/177] Importation de ILMN\n"
     ]
    },
    {
     "name": "stderr",
     "output_type": "stream",
     "text": [
      "[*********************100%***********************]  1 of 1 completed\n",
      "[*********************100%***********************]  1 of 1 completed"
     ]
    },
    {
     "name": "stdout",
     "output_type": "stream",
     "text": [
      "[46/177] Importation de ALGN\n"
     ]
    },
    {
     "name": "stderr",
     "output_type": "stream",
     "text": [
      "\n",
      "[*********************100%***********************]  1 of 1 completed"
     ]
    },
    {
     "name": "stdout",
     "output_type": "stream",
     "text": [
      "[47/177] Importation de IQV\n"
     ]
    },
    {
     "name": "stderr",
     "output_type": "stream",
     "text": [
      "\n"
     ]
    },
    {
     "name": "stdout",
     "output_type": "stream",
     "text": [
      "[48/177] Importation de A\n"
     ]
    },
    {
     "name": "stderr",
     "output_type": "stream",
     "text": [
      "[*********************100%***********************]  1 of 1 completed\n"
     ]
    },
    {
     "name": "stdout",
     "output_type": "stream",
     "text": [
      "[49/177] Importation de D\n"
     ]
    },
    {
     "name": "stderr",
     "output_type": "stream",
     "text": [
      "[*********************100%***********************]  1 of 1 completed\n"
     ]
    },
    {
     "name": "stdout",
     "output_type": "stream",
     "text": [
      "[50/177] Importation de ET\n"
     ]
    },
    {
     "name": "stderr",
     "output_type": "stream",
     "text": [
      "[*********************100%***********************]  1 of 1 completed\n"
     ]
    },
    {
     "name": "stdout",
     "output_type": "stream",
     "text": [
      "[51/177] Importation de OKE\n"
     ]
    },
    {
     "name": "stderr",
     "output_type": "stream",
     "text": [
      "[*********************100%***********************]  1 of 1 completed\n"
     ]
    },
    {
     "name": "stdout",
     "output_type": "stream",
     "text": [
      "[52/177] Importation de EPD\n"
     ]
    },
    {
     "name": "stderr",
     "output_type": "stream",
     "text": [
      "[*********************100%***********************]  1 of 1 completed\n"
     ]
    },
    {
     "name": "stdout",
     "output_type": "stream",
     "text": [
      "[53/177] Importation de KMI\n"
     ]
    },
    {
     "name": "stderr",
     "output_type": "stream",
     "text": [
      "[*********************100%***********************]  1 of 1 completed\n"
     ]
    },
    {
     "name": "stdout",
     "output_type": "stream",
     "text": [
      "[54/177] Importation de COP\n"
     ]
    },
    {
     "name": "stderr",
     "output_type": "stream",
     "text": [
      "[*********************100%***********************]  1 of 1 completed\n"
     ]
    },
    {
     "name": "stdout",
     "output_type": "stream",
     "text": [
      "[55/177] Importation de PSX\n"
     ]
    },
    {
     "name": "stderr",
     "output_type": "stream",
     "text": [
      "[*********************100%***********************]  1 of 1 completed\n"
     ]
    },
    {
     "name": "stdout",
     "output_type": "stream",
     "text": [
      "[56/177] Importation de EOG\n"
     ]
    },
    {
     "name": "stderr",
     "output_type": "stream",
     "text": [
      "[*********************100%***********************]  1 of 1 completed\n"
     ]
    },
    {
     "name": "stdout",
     "output_type": "stream",
     "text": [
      "[57/177] Importation de SLB\n"
     ]
    },
    {
     "name": "stderr",
     "output_type": "stream",
     "text": [
      "[*********************100%***********************]  1 of 1 completed\n"
     ]
    },
    {
     "name": "stdout",
     "output_type": "stream",
     "text": [
      "[58/177] Importation de HAL\n"
     ]
    },
    {
     "name": "stderr",
     "output_type": "stream",
     "text": [
      "[*********************100%***********************]  1 of 1 completed\n"
     ]
    },
    {
     "name": "stdout",
     "output_type": "stream",
     "text": [
      "[59/177] Importation de BKR\n"
     ]
    },
    {
     "name": "stderr",
     "output_type": "stream",
     "text": [
      "[*********************100%***********************]  1 of 1 completed\n"
     ]
    },
    {
     "name": "stdout",
     "output_type": "stream",
     "text": [
      "[60/177] Importation de APA\n"
     ]
    },
    {
     "name": "stderr",
     "output_type": "stream",
     "text": [
      "[*********************100%***********************]  1 of 1 completed\n"
     ]
    },
    {
     "name": "stdout",
     "output_type": "stream",
     "text": [
      "[61/177] Importation de OXY\n"
     ]
    },
    {
     "name": "stderr",
     "output_type": "stream",
     "text": [
      "[*********************100%***********************]  1 of 1 completed\n"
     ]
    },
    {
     "name": "stdout",
     "output_type": "stream",
     "text": [
      "[62/177] Importation de WMB\n"
     ]
    },
    {
     "name": "stderr",
     "output_type": "stream",
     "text": [
      "[*********************100%***********************]  1 of 1 completed\n"
     ]
    },
    {
     "name": "stdout",
     "output_type": "stream",
     "text": [
      "[63/177] Importation de DTE\n"
     ]
    },
    {
     "name": "stderr",
     "output_type": "stream",
     "text": [
      "[*********************100%***********************]  1 of 1 completed\n"
     ]
    },
    {
     "name": "stdout",
     "output_type": "stream",
     "text": [
      "[64/177] Importation de AEE\n"
     ]
    },
    {
     "name": "stderr",
     "output_type": "stream",
     "text": [
      "[*********************100%***********************]  1 of 1 completed\n"
     ]
    },
    {
     "name": "stdout",
     "output_type": "stream",
     "text": [
      "[65/177] Importation de ES\n"
     ]
    },
    {
     "name": "stderr",
     "output_type": "stream",
     "text": [
      "[*********************100%***********************]  1 of 1 completed\n"
     ]
    },
    {
     "name": "stdout",
     "output_type": "stream",
     "text": [
      "[66/177] Importation de CMS\n"
     ]
    },
    {
     "name": "stderr",
     "output_type": "stream",
     "text": [
      "[*********************100%***********************]  1 of 1 completed\n"
     ]
    },
    {
     "name": "stdout",
     "output_type": "stream",
     "text": [
      "[67/177] Importation de NI\n"
     ]
    },
    {
     "name": "stderr",
     "output_type": "stream",
     "text": [
      "[*********************100%***********************]  1 of 1 completed\n"
     ]
    },
    {
     "name": "stdout",
     "output_type": "stream",
     "text": [
      "[68/177] Importation de PCG\n"
     ]
    },
    {
     "name": "stderr",
     "output_type": "stream",
     "text": [
      "[*********************100%***********************]  1 of 1 completed\n"
     ]
    },
    {
     "name": "stdout",
     "output_type": "stream",
     "text": [
      "[69/177] Importation de SRE\n"
     ]
    },
    {
     "name": "stderr",
     "output_type": "stream",
     "text": [
      "[*********************100%***********************]  1 of 1 completed\n"
     ]
    },
    {
     "name": "stdout",
     "output_type": "stream",
     "text": [
      "[70/177] Importation de XEL\n"
     ]
    },
    {
     "name": "stderr",
     "output_type": "stream",
     "text": [
      "[*********************100%***********************]  1 of 1 completed\n"
     ]
    },
    {
     "name": "stdout",
     "output_type": "stream",
     "text": [
      "[71/177] Importation de EIX\n"
     ]
    },
    {
     "name": "stderr",
     "output_type": "stream",
     "text": [
      "[*********************100%***********************]  1 of 1 completed\n"
     ]
    },
    {
     "name": "stdout",
     "output_type": "stream",
     "text": [
      "[72/177] Importation de VTR\n"
     ]
    },
    {
     "name": "stderr",
     "output_type": "stream",
     "text": [
      "[*********************100%***********************]  1 of 1 completed\n"
     ]
    },
    {
     "name": "stdout",
     "output_type": "stream",
     "text": [
      "[73/177] Importation de WELL\n"
     ]
    },
    {
     "name": "stderr",
     "output_type": "stream",
     "text": [
      "[*********************100%***********************]  1 of 1 completed\n"
     ]
    },
    {
     "name": "stdout",
     "output_type": "stream",
     "text": [
      "[74/177] Importation de ARE\n"
     ]
    },
    {
     "name": "stderr",
     "output_type": "stream",
     "text": [
      "[*********************100%***********************]  1 of 1 completed\n"
     ]
    },
    {
     "name": "stdout",
     "output_type": "stream",
     "text": [
      "[75/177] Importation de HCA\n"
     ]
    },
    {
     "name": "stderr",
     "output_type": "stream",
     "text": [
      "[*********************100%***********************]  1 of 1 completed\n"
     ]
    },
    {
     "name": "stdout",
     "output_type": "stream",
     "text": [
      "[76/177] Importation de UHS\n"
     ]
    },
    {
     "name": "stderr",
     "output_type": "stream",
     "text": [
      "[*********************100%***********************]  1 of 1 completed\n"
     ]
    },
    {
     "name": "stdout",
     "output_type": "stream",
     "text": [
      "[77/177] Importation de DGX\n"
     ]
    },
    {
     "name": "stderr",
     "output_type": "stream",
     "text": [
      "[*********************100%***********************]  1 of 1 completed\n"
     ]
    },
    {
     "name": "stdout",
     "output_type": "stream",
     "text": [
      "[78/177] Importation de LH\n"
     ]
    },
    {
     "name": "stderr",
     "output_type": "stream",
     "text": [
      "[*********************100%***********************]  1 of 1 completed\n"
     ]
    },
    {
     "name": "stdout",
     "output_type": "stream",
     "text": [
      "[79/177] Importation de DVA\n"
     ]
    },
    {
     "name": "stderr",
     "output_type": "stream",
     "text": [
      "[*********************100%***********************]  1 of 1 completed\n",
      "[*********************100%***********************]  1 of 1 completed"
     ]
    },
    {
     "name": "stdout",
     "output_type": "stream",
     "text": [
      "[80/177] Importation de ZN=F\n",
      "[81/177] Importation de ZF=F\n"
     ]
    },
    {
     "name": "stderr",
     "output_type": "stream",
     "text": [
      "\n",
      "[*********************100%***********************]  1 of 1 completed\n",
      "[*********************100%***********************]  1 of 1 completed"
     ]
    },
    {
     "name": "stdout",
     "output_type": "stream",
     "text": [
      "[82/177] Importation de ZT=F\n"
     ]
    },
    {
     "name": "stderr",
     "output_type": "stream",
     "text": [
      "\n",
      "[*********************100%***********************]  1 of 1 completed\n"
     ]
    },
    {
     "name": "stdout",
     "output_type": "stream",
     "text": [
      "[83/177] Importation de ZB=F\n",
      "[84/177] Importation de ZO=F\n"
     ]
    },
    {
     "name": "stderr",
     "output_type": "stream",
     "text": [
      "[*********************100%***********************]  1 of 1 completed\n",
      "[*********************100%***********************]  1 of 1 completed"
     ]
    },
    {
     "name": "stdout",
     "output_type": "stream",
     "text": [
      "[85/177] Importation de BZ=F\n"
     ]
    },
    {
     "name": "stderr",
     "output_type": "stream",
     "text": [
      "\n",
      "[*********************100%***********************]  1 of 1 completed\n",
      "\n",
      "1 Failed download:\n",
      "['NG=F']: YFPricesMissingError('possibly delisted; no price data found  (1d 2010-01-01 -> 2024-12-31)')\n"
     ]
    },
    {
     "name": "stdout",
     "output_type": "stream",
     "text": [
      "[86/177] Importation de NG=F\n",
      "[87/177] Importation de RB=F\n"
     ]
    },
    {
     "name": "stderr",
     "output_type": "stream",
     "text": [
      "[*********************100%***********************]  1 of 1 completed\n"
     ]
    },
    {
     "name": "stdout",
     "output_type": "stream",
     "text": [
      "[88/177] Importation de HO=F\n"
     ]
    },
    {
     "name": "stderr",
     "output_type": "stream",
     "text": [
      "[*********************100%***********************]  1 of 1 completed\n",
      "[*********************100%***********************]  1 of 1 completed"
     ]
    },
    {
     "name": "stdout",
     "output_type": "stream",
     "text": [
      "[89/177] Importation de GC=F\n",
      "[90/177] Importation de SI=F\n"
     ]
    },
    {
     "name": "stderr",
     "output_type": "stream",
     "text": [
      "\n",
      "[*********************100%***********************]  1 of 1 completed\n",
      "[*********************100%***********************]  1 of 1 completed\n"
     ]
    },
    {
     "name": "stdout",
     "output_type": "stream",
     "text": [
      "[91/177] Importation de HG=F\n",
      "[92/177] Importation de PL=F\n"
     ]
    },
    {
     "name": "stderr",
     "output_type": "stream",
     "text": [
      "[*********************100%***********************]  1 of 1 completed\n",
      "[*********************100%***********************]  1 of 1 completed"
     ]
    },
    {
     "name": "stdout",
     "output_type": "stream",
     "text": [
      "[93/177] Importation de PA=F\n"
     ]
    },
    {
     "name": "stderr",
     "output_type": "stream",
     "text": [
      "\n",
      "[*********************100%***********************]  1 of 1 completed"
     ]
    },
    {
     "name": "stdout",
     "output_type": "stream",
     "text": [
      "[94/177] Importation de ZC=F\n"
     ]
    },
    {
     "name": "stderr",
     "output_type": "stream",
     "text": [
      "\n"
     ]
    },
    {
     "name": "stdout",
     "output_type": "stream",
     "text": [
      "[95/177] Importation de ZS=F\n"
     ]
    },
    {
     "name": "stderr",
     "output_type": "stream",
     "text": [
      "[*********************100%***********************]  1 of 1 completed\n",
      "[*********************100%***********************]  1 of 1 completed"
     ]
    },
    {
     "name": "stdout",
     "output_type": "stream",
     "text": [
      "[96/177] Importation de ZW=F\n"
     ]
    },
    {
     "name": "stderr",
     "output_type": "stream",
     "text": [
      "\n"
     ]
    },
    {
     "name": "stdout",
     "output_type": "stream",
     "text": [
      "[97/177] Importation de KC=F\n"
     ]
    },
    {
     "name": "stderr",
     "output_type": "stream",
     "text": [
      "[*********************100%***********************]  1 of 1 completed\n"
     ]
    },
    {
     "name": "stdout",
     "output_type": "stream",
     "text": [
      "[98/177] Importation de CT=F\n"
     ]
    },
    {
     "name": "stderr",
     "output_type": "stream",
     "text": [
      "[*********************100%***********************]  1 of 1 completed\n"
     ]
    },
    {
     "name": "stdout",
     "output_type": "stream",
     "text": [
      "[99/177] Importation de SB=F\n"
     ]
    },
    {
     "name": "stderr",
     "output_type": "stream",
     "text": [
      "[*********************100%***********************]  1 of 1 completed\n",
      "[*********************100%***********************]  1 of 1 completed"
     ]
    },
    {
     "name": "stdout",
     "output_type": "stream",
     "text": [
      "[100/177] Importation de CC=F\n"
     ]
    },
    {
     "name": "stderr",
     "output_type": "stream",
     "text": [
      "\n",
      "[*********************100%***********************]  1 of 1 completed"
     ]
    },
    {
     "name": "stdout",
     "output_type": "stream",
     "text": [
      "[101/177] Importation de LE=F\n"
     ]
    },
    {
     "name": "stderr",
     "output_type": "stream",
     "text": [
      "\n",
      "[*********************100%***********************]  1 of 1 completed"
     ]
    },
    {
     "name": "stdout",
     "output_type": "stream",
     "text": [
      "[102/177] Importation de GF=F\n"
     ]
    },
    {
     "name": "stderr",
     "output_type": "stream",
     "text": [
      "\n",
      "[*********************100%***********************]  1 of 1 completed"
     ]
    },
    {
     "name": "stdout",
     "output_type": "stream",
     "text": [
      "[103/177] Importation de HE=F\n"
     ]
    },
    {
     "name": "stderr",
     "output_type": "stream",
     "text": [
      "\n",
      "[*********************100%***********************]  1 of 1 completed"
     ]
    },
    {
     "name": "stdout",
     "output_type": "stream",
     "text": [
      "[104/177] Importation de OJ=F\n"
     ]
    },
    {
     "name": "stderr",
     "output_type": "stream",
     "text": [
      "\n",
      "[*********************100%***********************]  1 of 1 completed"
     ]
    },
    {
     "name": "stdout",
     "output_type": "stream",
     "text": [
      "[105/177] Importation de BTC-USD\n"
     ]
    },
    {
     "name": "stderr",
     "output_type": "stream",
     "text": [
      "\n",
      "[*********************100%***********************]  1 of 1 completed"
     ]
    },
    {
     "name": "stdout",
     "output_type": "stream",
     "text": [
      "[106/177] Importation de ETH-USD\n"
     ]
    },
    {
     "name": "stderr",
     "output_type": "stream",
     "text": [
      "\n",
      "[*********************100%***********************]  1 of 1 completed"
     ]
    },
    {
     "name": "stdout",
     "output_type": "stream",
     "text": [
      "[107/177] Importation de BNB-USD\n"
     ]
    },
    {
     "name": "stderr",
     "output_type": "stream",
     "text": [
      "\n",
      "[*********************100%***********************]  1 of 1 completed"
     ]
    },
    {
     "name": "stdout",
     "output_type": "stream",
     "text": [
      "[108/177] Importation de XRP-USD\n"
     ]
    },
    {
     "name": "stderr",
     "output_type": "stream",
     "text": [
      "\n"
     ]
    },
    {
     "name": "stdout",
     "output_type": "stream",
     "text": [
      "[109/177] Importation de ADA-USD\n"
     ]
    },
    {
     "name": "stderr",
     "output_type": "stream",
     "text": [
      "[*********************100%***********************]  1 of 1 completed\n",
      "[*********************100%***********************]  1 of 1 completed\n"
     ]
    },
    {
     "name": "stdout",
     "output_type": "stream",
     "text": [
      "[110/177] Importation de SOL-USD\n",
      "[111/177] Importation de MATIC-USD\n"
     ]
    },
    {
     "name": "stderr",
     "output_type": "stream",
     "text": [
      "[*********************100%***********************]  1 of 1 completed\n",
      "[*********************100%***********************]  1 of 1 completed\n"
     ]
    },
    {
     "name": "stdout",
     "output_type": "stream",
     "text": [
      "[112/177] Importation de SHIB-USD\n",
      "[113/177] Importation de LTC-USD\n"
     ]
    },
    {
     "name": "stderr",
     "output_type": "stream",
     "text": [
      "[*********************100%***********************]  1 of 1 completed\n",
      "[*********************100%***********************]  1 of 1 completed"
     ]
    },
    {
     "name": "stdout",
     "output_type": "stream",
     "text": [
      "[114/177] Importation de AVAX-USD\n",
      "[115/177] Importation de LINK-USD\n"
     ]
    },
    {
     "name": "stderr",
     "output_type": "stream",
     "text": [
      "\n",
      "[*********************100%***********************]  1 of 1 completed\n",
      "[*********************100%***********************]  1 of 1 completed"
     ]
    },
    {
     "name": "stdout",
     "output_type": "stream",
     "text": [
      "[116/177] Importation de XLM-USD\n"
     ]
    },
    {
     "name": "stderr",
     "output_type": "stream",
     "text": [
      "\n",
      "[*********************100%***********************]  1 of 1 completed"
     ]
    },
    {
     "name": "stdout",
     "output_type": "stream",
     "text": [
      "[117/177] Importation de ATOM-USD\n"
     ]
    },
    {
     "name": "stderr",
     "output_type": "stream",
     "text": [
      "\n",
      "[*********************100%***********************]  1 of 1 completed"
     ]
    },
    {
     "name": "stdout",
     "output_type": "stream",
     "text": [
      "[118/177] Importation de TRX-USD\n"
     ]
    },
    {
     "name": "stderr",
     "output_type": "stream",
     "text": [
      "\n"
     ]
    },
    {
     "name": "stdout",
     "output_type": "stream",
     "text": [
      "[119/177] Importation de ETC-USD\n"
     ]
    },
    {
     "name": "stderr",
     "output_type": "stream",
     "text": [
      "[*********************100%***********************]  1 of 1 completed\n",
      "[*********************100%***********************]  1 of 1 completed\n"
     ]
    },
    {
     "name": "stdout",
     "output_type": "stream",
     "text": [
      "[120/177] Importation de AXS-USD\n",
      "[121/177] Importation de FTM-USD\n"
     ]
    },
    {
     "name": "stderr",
     "output_type": "stream",
     "text": [
      "[*********************100%***********************]  1 of 1 completed\n",
      "[*********************100%***********************]  1 of 1 completed\n"
     ]
    },
    {
     "name": "stdout",
     "output_type": "stream",
     "text": [
      "[122/177] Importation de VET-USD\n",
      "[123/177] Importation de THETA-USD\n"
     ]
    },
    {
     "name": "stderr",
     "output_type": "stream",
     "text": [
      "[*********************100%***********************]  1 of 1 completed\n"
     ]
    },
    {
     "name": "stdout",
     "output_type": "stream",
     "text": [
      "[124/177] Importation de XTZ-USD\n"
     ]
    },
    {
     "name": "stderr",
     "output_type": "stream",
     "text": [
      "[*********************100%***********************]  1 of 1 completed\n"
     ]
    },
    {
     "name": "stdout",
     "output_type": "stream",
     "text": [
      "[125/177] Importation de ENJ-USD\n"
     ]
    },
    {
     "name": "stderr",
     "output_type": "stream",
     "text": [
      "[*********************100%***********************]  1 of 1 completed\n",
      "[*********************100%***********************]  1 of 1 completed"
     ]
    },
    {
     "name": "stdout",
     "output_type": "stream",
     "text": [
      "[126/177] Importation de QNT-USD\n"
     ]
    },
    {
     "name": "stderr",
     "output_type": "stream",
     "text": [
      "\n",
      "[*********************100%***********************]  1 of 1 completed\n"
     ]
    },
    {
     "name": "stdout",
     "output_type": "stream",
     "text": [
      "[127/177] Importation de LDO-USD\n",
      "[128/177] Importation de BAT-USD\n"
     ]
    },
    {
     "name": "stderr",
     "output_type": "stream",
     "text": [
      "[*********************100%***********************]  1 of 1 completed\n",
      "[*********************100%***********************]  1 of 1 completed\n"
     ]
    },
    {
     "name": "stdout",
     "output_type": "stream",
     "text": [
      "[129/177] Importation de YFI-USD\n",
      "[130/177] Importation de SPY\n"
     ]
    },
    {
     "name": "stderr",
     "output_type": "stream",
     "text": [
      "[*********************100%***********************]  1 of 1 completed\n"
     ]
    },
    {
     "name": "stdout",
     "output_type": "stream",
     "text": [
      "[131/177] Importation de QQQ\n"
     ]
    },
    {
     "name": "stderr",
     "output_type": "stream",
     "text": [
      "[*********************100%***********************]  1 of 1 completed\n"
     ]
    },
    {
     "name": "stdout",
     "output_type": "stream",
     "text": [
      "[132/177] Importation de VTI\n"
     ]
    },
    {
     "name": "stderr",
     "output_type": "stream",
     "text": [
      "[*********************100%***********************]  1 of 1 completed\n"
     ]
    },
    {
     "name": "stdout",
     "output_type": "stream",
     "text": [
      "[133/177] Importation de IVV\n"
     ]
    },
    {
     "name": "stderr",
     "output_type": "stream",
     "text": [
      "[*********************100%***********************]  1 of 1 completed\n"
     ]
    },
    {
     "name": "stdout",
     "output_type": "stream",
     "text": [
      "[134/177] Importation de VOO\n"
     ]
    },
    {
     "name": "stderr",
     "output_type": "stream",
     "text": [
      "[*********************100%***********************]  1 of 1 completed\n"
     ]
    },
    {
     "name": "stdout",
     "output_type": "stream",
     "text": [
      "[135/177] Importation de DIA\n"
     ]
    },
    {
     "name": "stderr",
     "output_type": "stream",
     "text": [
      "[*********************100%***********************]  1 of 1 completed\n"
     ]
    },
    {
     "name": "stdout",
     "output_type": "stream",
     "text": [
      "[136/177] Importation de IWM\n"
     ]
    },
    {
     "name": "stderr",
     "output_type": "stream",
     "text": [
      "[*********************100%***********************]  1 of 1 completed\n"
     ]
    },
    {
     "name": "stdout",
     "output_type": "stream",
     "text": [
      "[137/177] Importation de VTV\n"
     ]
    },
    {
     "name": "stderr",
     "output_type": "stream",
     "text": [
      "[*********************100%***********************]  1 of 1 completed\n"
     ]
    },
    {
     "name": "stdout",
     "output_type": "stream",
     "text": [
      "[138/177] Importation de VUG\n"
     ]
    },
    {
     "name": "stderr",
     "output_type": "stream",
     "text": [
      "[*********************100%***********************]  1 of 1 completed\n"
     ]
    },
    {
     "name": "stdout",
     "output_type": "stream",
     "text": [
      "[139/177] Importation de ARKK\n"
     ]
    },
    {
     "name": "stderr",
     "output_type": "stream",
     "text": [
      "[*********************100%***********************]  1 of 1 completed\n"
     ]
    },
    {
     "name": "stdout",
     "output_type": "stream",
     "text": [
      "[140/177] Importation de TLT\n"
     ]
    },
    {
     "name": "stderr",
     "output_type": "stream",
     "text": [
      "[*********************100%***********************]  1 of 1 completed\n"
     ]
    },
    {
     "name": "stdout",
     "output_type": "stream",
     "text": [
      "[141/177] Importation de LQD\n"
     ]
    },
    {
     "name": "stderr",
     "output_type": "stream",
     "text": [
      "[*********************100%***********************]  1 of 1 completed\n"
     ]
    },
    {
     "name": "stdout",
     "output_type": "stream",
     "text": [
      "[142/177] Importation de HYG\n"
     ]
    },
    {
     "name": "stderr",
     "output_type": "stream",
     "text": [
      "[*********************100%***********************]  1 of 1 completed\n"
     ]
    },
    {
     "name": "stdout",
     "output_type": "stream",
     "text": [
      "[143/177] Importation de EMB\n"
     ]
    },
    {
     "name": "stderr",
     "output_type": "stream",
     "text": [
      "[*********************100%***********************]  1 of 1 completed\n"
     ]
    },
    {
     "name": "stdout",
     "output_type": "stream",
     "text": [
      "[144/177] Importation de AGG\n"
     ]
    },
    {
     "name": "stderr",
     "output_type": "stream",
     "text": [
      "[*********************100%***********************]  1 of 1 completed\n"
     ]
    },
    {
     "name": "stdout",
     "output_type": "stream",
     "text": [
      "[145/177] Importation de BND\n"
     ]
    },
    {
     "name": "stderr",
     "output_type": "stream",
     "text": [
      "[*********************100%***********************]  1 of 1 completed\n"
     ]
    },
    {
     "name": "stdout",
     "output_type": "stream",
     "text": [
      "[146/177] Importation de TIP\n"
     ]
    },
    {
     "name": "stderr",
     "output_type": "stream",
     "text": [
      "[*********************100%***********************]  1 of 1 completed\n"
     ]
    },
    {
     "name": "stdout",
     "output_type": "stream",
     "text": [
      "[147/177] Importation de SHY\n"
     ]
    },
    {
     "name": "stderr",
     "output_type": "stream",
     "text": [
      "[*********************100%***********************]  1 of 1 completed\n"
     ]
    },
    {
     "name": "stdout",
     "output_type": "stream",
     "text": [
      "[148/177] Importation de IEF\n"
     ]
    },
    {
     "name": "stderr",
     "output_type": "stream",
     "text": [
      "[*********************100%***********************]  1 of 1 completed\n"
     ]
    },
    {
     "name": "stdout",
     "output_type": "stream",
     "text": [
      "[149/177] Importation de BIL\n"
     ]
    },
    {
     "name": "stderr",
     "output_type": "stream",
     "text": [
      "[*********************100%***********************]  1 of 1 completed\n"
     ]
    },
    {
     "name": "stdout",
     "output_type": "stream",
     "text": [
      "[150/177] Importation de VNQ\n"
     ]
    },
    {
     "name": "stderr",
     "output_type": "stream",
     "text": [
      "[*********************100%***********************]  1 of 1 completed\n",
      "[*********************100%***********************]  1 of 1 completed"
     ]
    },
    {
     "name": "stdout",
     "output_type": "stream",
     "text": [
      "[151/177] Importation de XLRE\n"
     ]
    },
    {
     "name": "stderr",
     "output_type": "stream",
     "text": [
      "\n"
     ]
    },
    {
     "name": "stdout",
     "output_type": "stream",
     "text": [
      "[152/177] Importation de XLF\n"
     ]
    },
    {
     "name": "stderr",
     "output_type": "stream",
     "text": [
      "[*********************100%***********************]  1 of 1 completed\n"
     ]
    },
    {
     "name": "stdout",
     "output_type": "stream",
     "text": [
      "[153/177] Importation de XLE\n"
     ]
    },
    {
     "name": "stderr",
     "output_type": "stream",
     "text": [
      "[*********************100%***********************]  1 of 1 completed\n"
     ]
    },
    {
     "name": "stdout",
     "output_type": "stream",
     "text": [
      "[154/177] Importation de XLV\n"
     ]
    },
    {
     "name": "stderr",
     "output_type": "stream",
     "text": [
      "[*********************100%***********************]  1 of 1 completed\n"
     ]
    },
    {
     "name": "stdout",
     "output_type": "stream",
     "text": [
      "[155/177] Importation de XLY\n"
     ]
    },
    {
     "name": "stderr",
     "output_type": "stream",
     "text": [
      "[*********************100%***********************]  1 of 1 completed\n"
     ]
    },
    {
     "name": "stdout",
     "output_type": "stream",
     "text": [
      "[156/177] Importation de XLP\n"
     ]
    },
    {
     "name": "stderr",
     "output_type": "stream",
     "text": [
      "[*********************100%***********************]  1 of 1 completed\n"
     ]
    },
    {
     "name": "stdout",
     "output_type": "stream",
     "text": [
      "[157/177] Importation de XLK\n"
     ]
    },
    {
     "name": "stderr",
     "output_type": "stream",
     "text": [
      "[*********************100%***********************]  1 of 1 completed\n"
     ]
    },
    {
     "name": "stdout",
     "output_type": "stream",
     "text": [
      "[158/177] Importation de XLI\n"
     ]
    },
    {
     "name": "stderr",
     "output_type": "stream",
     "text": [
      "[*********************100%***********************]  1 of 1 completed\n"
     ]
    },
    {
     "name": "stdout",
     "output_type": "stream",
     "text": [
      "[159/177] Importation de XLB\n"
     ]
    },
    {
     "name": "stderr",
     "output_type": "stream",
     "text": [
      "[*********************100%***********************]  1 of 1 completed\n"
     ]
    },
    {
     "name": "stdout",
     "output_type": "stream",
     "text": [
      "[160/177] Importation de XLU\n"
     ]
    },
    {
     "name": "stderr",
     "output_type": "stream",
     "text": [
      "[*********************100%***********************]  1 of 1 completed\n"
     ]
    },
    {
     "name": "stdout",
     "output_type": "stream",
     "text": [
      "[161/177] Importation de ARKG\n"
     ]
    },
    {
     "name": "stderr",
     "output_type": "stream",
     "text": [
      "[*********************100%***********************]  1 of 1 completed\n",
      "[*********************100%***********************]  1 of 1 completed"
     ]
    },
    {
     "name": "stdout",
     "output_type": "stream",
     "text": [
      "[162/177] Importation de ARKW\n"
     ]
    },
    {
     "name": "stderr",
     "output_type": "stream",
     "text": [
      "\n",
      "[*********************100%***********************]  1 of 1 completed\n"
     ]
    },
    {
     "name": "stdout",
     "output_type": "stream",
     "text": [
      "[163/177] Importation de ARKF\n",
      "[164/177] Importation de ICLN\n"
     ]
    },
    {
     "name": "stderr",
     "output_type": "stream",
     "text": [
      "[*********************100%***********************]  1 of 1 completed\n"
     ]
    },
    {
     "name": "stdout",
     "output_type": "stream",
     "text": [
      "[165/177] Importation de TAN\n"
     ]
    },
    {
     "name": "stderr",
     "output_type": "stream",
     "text": [
      "[*********************100%***********************]  1 of 1 completed\n"
     ]
    },
    {
     "name": "stdout",
     "output_type": "stream",
     "text": [
      "[166/177] Importation de PBW\n"
     ]
    },
    {
     "name": "stderr",
     "output_type": "stream",
     "text": [
      "[*********************100%***********************]  1 of 1 completed\n"
     ]
    },
    {
     "name": "stdout",
     "output_type": "stream",
     "text": [
      "[167/177] Importation de URA\n"
     ]
    },
    {
     "name": "stderr",
     "output_type": "stream",
     "text": [
      "[*********************100%***********************]  1 of 1 completed\n"
     ]
    },
    {
     "name": "stdout",
     "output_type": "stream",
     "text": [
      "[168/177] Importation de LIT\n"
     ]
    },
    {
     "name": "stderr",
     "output_type": "stream",
     "text": [
      "[*********************100%***********************]  1 of 1 completed\n"
     ]
    },
    {
     "name": "stdout",
     "output_type": "stream",
     "text": [
      "[169/177] Importation de SOXX\n"
     ]
    },
    {
     "name": "stderr",
     "output_type": "stream",
     "text": [
      "[*********************100%***********************]  1 of 1 completed\n"
     ]
    },
    {
     "name": "stdout",
     "output_type": "stream",
     "text": [
      "[170/177] Importation de XBI\n"
     ]
    },
    {
     "name": "stderr",
     "output_type": "stream",
     "text": [
      "[*********************100%***********************]  1 of 1 completed\n"
     ]
    },
    {
     "name": "stdout",
     "output_type": "stream",
     "text": [
      "[171/177] Importation de IBB\n"
     ]
    },
    {
     "name": "stderr",
     "output_type": "stream",
     "text": [
      "[*********************100%***********************]  1 of 1 completed\n"
     ]
    },
    {
     "name": "stdout",
     "output_type": "stream",
     "text": [
      "[172/177] Importation de EFA\n"
     ]
    },
    {
     "name": "stderr",
     "output_type": "stream",
     "text": [
      "[*********************100%***********************]  1 of 1 completed\n"
     ]
    },
    {
     "name": "stdout",
     "output_type": "stream",
     "text": [
      "[173/177] Importation de EEM\n"
     ]
    },
    {
     "name": "stderr",
     "output_type": "stream",
     "text": [
      "[*********************100%***********************]  1 of 1 completed\n"
     ]
    },
    {
     "name": "stdout",
     "output_type": "stream",
     "text": [
      "[174/177] Importation de VWO\n"
     ]
    },
    {
     "name": "stderr",
     "output_type": "stream",
     "text": [
      "[*********************100%***********************]  1 of 1 completed\n"
     ]
    },
    {
     "name": "stdout",
     "output_type": "stream",
     "text": [
      "[175/177] Importation de GLD\n"
     ]
    },
    {
     "name": "stderr",
     "output_type": "stream",
     "text": [
      "[*********************100%***********************]  1 of 1 completed\n"
     ]
    },
    {
     "name": "stdout",
     "output_type": "stream",
     "text": [
      "[176/177] Importation de SLV\n"
     ]
    },
    {
     "name": "stderr",
     "output_type": "stream",
     "text": [
      "[*********************100%***********************]  1 of 1 completed\n",
      "[*********************100%***********************]  1 of 1 completed"
     ]
    },
    {
     "name": "stdout",
     "output_type": "stream",
     "text": [
      "[177/177] Importation de ^TNX\n"
     ]
    },
    {
     "name": "stderr",
     "output_type": "stream",
     "text": [
      "\n"
     ]
    },
    {
     "data": {
      "application/vnd.jupyter.widget-view+json": {
       "model_id": "b49f8d3494a7492dbfe1ec4873b96822",
       "version_major": 2,
       "version_minor": 0
      },
      "text/plain": [
       "Traitement des périodes:   0%|          | 0/105 [00:00<?, ?période/s]"
      ]
     },
     "metadata": {},
     "output_type": "display_data"
    },
    {
     "name": "stderr",
     "output_type": "stream",
     "text": [
      "/Users/adam/anaconda3/lib/python3.11/site-packages/sklearn/cluster/_kmeans.py:1412: FutureWarning: The default value of `n_init` will change from 10 to 'auto' in 1.4. Set the value of `n_init` explicitly to suppress the warning\n",
      "  super()._check_params_vs_input(X, default_n_init=10)\n",
      "/Users/adam/Desktop/Projet Data final /strategies.py:409: RuntimeWarning: divide by zero encountered in scalar divide\n",
      "  perf_val = (df['Close'].iloc[i] / df['Close'].iloc[i-win]) - 1\n",
      "Equity Only: Traitement: 100%|██████████| 115/115 [01:30<00:00,  1.28it/s]\n"
     ]
    },
    {
     "name": "stdout",
     "output_type": "stream",
     "text": [
      "J'entraîne une forêt aléatoire du 2014-10-15 jusqu'à 2023-01-01\n"
     ]
    },
    {
     "name": "stderr",
     "output_type": "stream",
     "text": [
      "Equity Only: Prédictions: 100%|██████████| 115/115 [00:00<00:00, 434.73it/s]\n"
     ]
    },
    {
     "name": "stdout",
     "output_type": "stream",
     "text": [
      "\n",
      "Semaine 2 : 2023-01-09 à 2023-01-16\n",
      "→ Calcul des performances de 2023-01-02 à 2023-01-09\n"
     ]
    },
    {
     "name": "stderr",
     "output_type": "stream",
     "text": [
      "/Users/adam/anaconda3/lib/python3.11/site-packages/sklearn/cluster/_kmeans.py:1412: FutureWarning: The default value of `n_init` will change from 10 to 'auto' in 1.4. Set the value of `n_init` explicitly to suppress the warning\n",
      "  super()._check_params_vs_input(X, default_n_init=10)\n",
      "Equity Only: Traitement: 100%|██████████| 115/115 [00:00<00:00, 278.88it/s]\n",
      "Equity Only: Prédictions: 100%|██████████| 115/115 [00:00<00:00, 384.90it/s]\n"
     ]
    },
    {
     "name": "stdout",
     "output_type": "stream",
     "text": [
      "\n",
      "Semaine 3 : 2023-01-16 à 2023-01-23\n",
      "→ Calcul des performances de 2023-01-09 à 2023-01-16\n"
     ]
    },
    {
     "name": "stderr",
     "output_type": "stream",
     "text": [
      "/Users/adam/anaconda3/lib/python3.11/site-packages/sklearn/cluster/_kmeans.py:1412: FutureWarning: The default value of `n_init` will change from 10 to 'auto' in 1.4. Set the value of `n_init` explicitly to suppress the warning\n",
      "  super()._check_params_vs_input(X, default_n_init=10)\n",
      "Equity Only: Traitement: 100%|██████████| 115/115 [00:00<00:00, 274.23it/s]\n",
      "Equity Only: Prédictions: 100%|██████████| 115/115 [00:00<00:00, 435.85it/s]\n"
     ]
    },
    {
     "name": "stdout",
     "output_type": "stream",
     "text": [
      "\n",
      "Semaine 4 : 2023-01-23 à 2023-01-30\n",
      "→ Calcul des performances de 2023-01-16 à 2023-01-23\n"
     ]
    },
    {
     "name": "stderr",
     "output_type": "stream",
     "text": [
      "/Users/adam/anaconda3/lib/python3.11/site-packages/sklearn/cluster/_kmeans.py:1412: FutureWarning: The default value of `n_init` will change from 10 to 'auto' in 1.4. Set the value of `n_init` explicitly to suppress the warning\n",
      "  super()._check_params_vs_input(X, default_n_init=10)\n",
      "Equity Only: Traitement: 100%|██████████| 115/115 [00:00<00:00, 277.87it/s]\n",
      "Equity Only: Prédictions: 100%|██████████| 115/115 [00:00<00:00, 438.05it/s]\n"
     ]
    },
    {
     "name": "stdout",
     "output_type": "stream",
     "text": [
      "\n",
      "Semaine 5 : 2023-01-30 à 2023-02-06\n",
      "→ Calcul des performances de 2023-01-23 à 2023-01-30\n"
     ]
    },
    {
     "name": "stderr",
     "output_type": "stream",
     "text": [
      "/Users/adam/anaconda3/lib/python3.11/site-packages/sklearn/cluster/_kmeans.py:1412: FutureWarning: The default value of `n_init` will change from 10 to 'auto' in 1.4. Set the value of `n_init` explicitly to suppress the warning\n",
      "  super()._check_params_vs_input(X, default_n_init=10)\n",
      "Equity Only: Traitement: 100%|██████████| 115/115 [00:00<00:00, 265.08it/s]\n",
      "Equity Only: Prédictions: 100%|██████████| 115/115 [00:00<00:00, 447.31it/s]\n"
     ]
    },
    {
     "name": "stdout",
     "output_type": "stream",
     "text": [
      "\n",
      "Semaine 6 : 2023-02-06 à 2023-02-13\n",
      "→ Calcul des performances de 2023-01-30 à 2023-02-06\n"
     ]
    },
    {
     "name": "stderr",
     "output_type": "stream",
     "text": [
      "/Users/adam/anaconda3/lib/python3.11/site-packages/sklearn/cluster/_kmeans.py:1412: FutureWarning: The default value of `n_init` will change from 10 to 'auto' in 1.4. Set the value of `n_init` explicitly to suppress the warning\n",
      "  super()._check_params_vs_input(X, default_n_init=10)\n",
      "Equity Only: Traitement: 100%|██████████| 115/115 [00:00<00:00, 275.47it/s]\n",
      "Equity Only: Prédictions: 100%|██████████| 115/115 [00:00<00:00, 487.37it/s]\n"
     ]
    },
    {
     "name": "stdout",
     "output_type": "stream",
     "text": [
      "\n",
      "Semaine 7 : 2023-02-13 à 2023-02-20\n",
      "→ Calcul des performances de 2023-02-06 à 2023-02-13\n"
     ]
    },
    {
     "name": "stderr",
     "output_type": "stream",
     "text": [
      "/Users/adam/anaconda3/lib/python3.11/site-packages/sklearn/cluster/_kmeans.py:1412: FutureWarning: The default value of `n_init` will change from 10 to 'auto' in 1.4. Set the value of `n_init` explicitly to suppress the warning\n",
      "  super()._check_params_vs_input(X, default_n_init=10)\n",
      "Equity Only: Traitement: 100%|██████████| 115/115 [00:00<00:00, 287.22it/s]\n",
      "Equity Only: Prédictions: 100%|██████████| 115/115 [00:00<00:00, 485.79it/s]\n"
     ]
    },
    {
     "name": "stdout",
     "output_type": "stream",
     "text": [
      "\n",
      "Semaine 8 : 2023-02-20 à 2023-02-27\n",
      "→ Calcul des performances de 2023-02-13 à 2023-02-20\n"
     ]
    },
    {
     "name": "stderr",
     "output_type": "stream",
     "text": [
      "/Users/adam/anaconda3/lib/python3.11/site-packages/sklearn/cluster/_kmeans.py:1412: FutureWarning: The default value of `n_init` will change from 10 to 'auto' in 1.4. Set the value of `n_init` explicitly to suppress the warning\n",
      "  super()._check_params_vs_input(X, default_n_init=10)\n",
      "Equity Only: Traitement: 100%|██████████| 115/115 [00:00<00:00, 292.74it/s]\n",
      "Equity Only: Prédictions: 100%|██████████| 115/115 [00:00<00:00, 430.08it/s]\n"
     ]
    },
    {
     "name": "stdout",
     "output_type": "stream",
     "text": [
      "\n",
      "Semaine 9 : 2023-02-27 à 2023-03-06\n",
      "→ Calcul des performances de 2023-02-20 à 2023-02-27\n"
     ]
    },
    {
     "name": "stderr",
     "output_type": "stream",
     "text": [
      "/Users/adam/anaconda3/lib/python3.11/site-packages/sklearn/cluster/_kmeans.py:1412: FutureWarning: The default value of `n_init` will change from 10 to 'auto' in 1.4. Set the value of `n_init` explicitly to suppress the warning\n",
      "  super()._check_params_vs_input(X, default_n_init=10)\n",
      "Equity Only: Traitement: 100%|██████████| 115/115 [00:00<00:00, 247.85it/s]\n",
      "Equity Only: Prédictions: 100%|██████████| 115/115 [00:00<00:00, 407.79it/s]\n"
     ]
    },
    {
     "name": "stdout",
     "output_type": "stream",
     "text": [
      "\n",
      "Semaine 10 : 2023-03-06 à 2023-03-13\n",
      "→ Calcul des performances de 2023-02-27 à 2023-03-06\n"
     ]
    },
    {
     "name": "stderr",
     "output_type": "stream",
     "text": [
      "/Users/adam/anaconda3/lib/python3.11/site-packages/sklearn/cluster/_kmeans.py:1412: FutureWarning: The default value of `n_init` will change from 10 to 'auto' in 1.4. Set the value of `n_init` explicitly to suppress the warning\n",
      "  super()._check_params_vs_input(X, default_n_init=10)\n",
      "Equity Only: Traitement: 100%|██████████| 115/115 [00:00<00:00, 285.24it/s]\n",
      "Equity Only: Prédictions: 100%|██████████| 115/115 [00:00<00:00, 284.00it/s]\n"
     ]
    },
    {
     "name": "stdout",
     "output_type": "stream",
     "text": [
      "\n",
      "Semaine 11 : 2023-03-13 à 2023-03-20\n",
      "→ Calcul des performances de 2023-03-06 à 2023-03-13\n"
     ]
    },
    {
     "name": "stderr",
     "output_type": "stream",
     "text": [
      "/Users/adam/anaconda3/lib/python3.11/site-packages/sklearn/cluster/_kmeans.py:1412: FutureWarning: The default value of `n_init` will change from 10 to 'auto' in 1.4. Set the value of `n_init` explicitly to suppress the warning\n",
      "  super()._check_params_vs_input(X, default_n_init=10)\n",
      "Equity Only: Traitement: 100%|██████████| 115/115 [00:00<00:00, 265.53it/s]\n",
      "Equity Only: Prédictions: 100%|██████████| 115/115 [00:00<00:00, 450.43it/s]\n"
     ]
    },
    {
     "name": "stdout",
     "output_type": "stream",
     "text": [
      "\n",
      "Semaine 12 : 2023-03-20 à 2023-03-27\n",
      "→ Calcul des performances de 2023-03-13 à 2023-03-20\n"
     ]
    },
    {
     "name": "stderr",
     "output_type": "stream",
     "text": [
      "/Users/adam/anaconda3/lib/python3.11/site-packages/sklearn/cluster/_kmeans.py:1412: FutureWarning: The default value of `n_init` will change from 10 to 'auto' in 1.4. Set the value of `n_init` explicitly to suppress the warning\n",
      "  super()._check_params_vs_input(X, default_n_init=10)\n",
      "Equity Only: Traitement: 100%|██████████| 115/115 [00:00<00:00, 291.01it/s]\n",
      "Equity Only: Prédictions: 100%|██████████| 115/115 [00:00<00:00, 442.72it/s]\n"
     ]
    },
    {
     "name": "stdout",
     "output_type": "stream",
     "text": [
      "\n",
      "Semaine 13 : 2023-03-27 à 2023-04-03\n",
      "→ Calcul des performances de 2023-03-20 à 2023-03-27\n"
     ]
    },
    {
     "name": "stderr",
     "output_type": "stream",
     "text": [
      "/Users/adam/anaconda3/lib/python3.11/site-packages/sklearn/cluster/_kmeans.py:1412: FutureWarning: The default value of `n_init` will change from 10 to 'auto' in 1.4. Set the value of `n_init` explicitly to suppress the warning\n",
      "  super()._check_params_vs_input(X, default_n_init=10)\n",
      "Equity Only: Traitement: 100%|██████████| 115/115 [00:00<00:00, 255.77it/s]\n",
      "Equity Only: Prédictions: 100%|██████████| 115/115 [00:00<00:00, 473.62it/s]\n"
     ]
    },
    {
     "name": "stdout",
     "output_type": "stream",
     "text": [
      "\n",
      "Semaine 14 : 2023-04-03 à 2023-04-10\n",
      "→ Calcul des performances de 2023-03-27 à 2023-04-03\n"
     ]
    },
    {
     "name": "stderr",
     "output_type": "stream",
     "text": [
      "/Users/adam/anaconda3/lib/python3.11/site-packages/sklearn/cluster/_kmeans.py:1412: FutureWarning: The default value of `n_init` will change from 10 to 'auto' in 1.4. Set the value of `n_init` explicitly to suppress the warning\n",
      "  super()._check_params_vs_input(X, default_n_init=10)\n",
      "Equity Only: Traitement: 100%|██████████| 115/115 [00:00<00:00, 273.51it/s]\n",
      "Equity Only: Prédictions: 100%|██████████| 115/115 [00:00<00:00, 512.29it/s]\n"
     ]
    },
    {
     "name": "stdout",
     "output_type": "stream",
     "text": [
      "\n",
      "Semaine 15 : 2023-04-10 à 2023-04-17\n",
      "→ Calcul des performances de 2023-04-03 à 2023-04-10\n"
     ]
    },
    {
     "name": "stderr",
     "output_type": "stream",
     "text": [
      "/Users/adam/anaconda3/lib/python3.11/site-packages/sklearn/cluster/_kmeans.py:1412: FutureWarning: The default value of `n_init` will change from 10 to 'auto' in 1.4. Set the value of `n_init` explicitly to suppress the warning\n",
      "  super()._check_params_vs_input(X, default_n_init=10)\n",
      "Equity Only: Traitement: 100%|██████████| 115/115 [00:00<00:00, 284.60it/s]\n",
      "Equity Only: Prédictions: 100%|██████████| 115/115 [00:00<00:00, 480.48it/s]\n"
     ]
    },
    {
     "name": "stdout",
     "output_type": "stream",
     "text": [
      "\n",
      "Semaine 16 : 2023-04-17 à 2023-04-24\n",
      "→ Calcul des performances de 2023-04-10 à 2023-04-17\n"
     ]
    },
    {
     "name": "stderr",
     "output_type": "stream",
     "text": [
      "/Users/adam/anaconda3/lib/python3.11/site-packages/sklearn/cluster/_kmeans.py:1412: FutureWarning: The default value of `n_init` will change from 10 to 'auto' in 1.4. Set the value of `n_init` explicitly to suppress the warning\n",
      "  super()._check_params_vs_input(X, default_n_init=10)\n",
      "Equity Only: Traitement: 100%|██████████| 115/115 [00:00<00:00, 285.55it/s]\n",
      "Equity Only: Prédictions: 100%|██████████| 115/115 [00:00<00:00, 502.71it/s]\n"
     ]
    },
    {
     "name": "stdout",
     "output_type": "stream",
     "text": [
      "\n",
      "Semaine 17 : 2023-04-24 à 2023-05-01\n",
      "→ Calcul des performances de 2023-04-17 à 2023-04-24\n"
     ]
    },
    {
     "name": "stderr",
     "output_type": "stream",
     "text": [
      "/Users/adam/anaconda3/lib/python3.11/site-packages/sklearn/cluster/_kmeans.py:1412: FutureWarning: The default value of `n_init` will change from 10 to 'auto' in 1.4. Set the value of `n_init` explicitly to suppress the warning\n",
      "  super()._check_params_vs_input(X, default_n_init=10)\n",
      "Equity Only: Traitement: 100%|██████████| 115/115 [00:00<00:00, 251.65it/s]\n",
      "Equity Only: Prédictions: 100%|██████████| 115/115 [00:00<00:00, 496.45it/s]\n"
     ]
    },
    {
     "name": "stdout",
     "output_type": "stream",
     "text": [
      "\n",
      "Semaine 18 : 2023-05-01 à 2023-05-08\n",
      "→ Calcul des performances de 2023-04-24 à 2023-05-01\n"
     ]
    },
    {
     "name": "stderr",
     "output_type": "stream",
     "text": [
      "/Users/adam/anaconda3/lib/python3.11/site-packages/sklearn/cluster/_kmeans.py:1412: FutureWarning: The default value of `n_init` will change from 10 to 'auto' in 1.4. Set the value of `n_init` explicitly to suppress the warning\n",
      "  super()._check_params_vs_input(X, default_n_init=10)\n",
      "Equity Only: Traitement: 100%|██████████| 115/115 [00:00<00:00, 275.00it/s]\n",
      "Equity Only: Prédictions: 100%|██████████| 115/115 [00:00<00:00, 487.50it/s]\n"
     ]
    },
    {
     "name": "stdout",
     "output_type": "stream",
     "text": [
      "\n",
      "Semaine 19 : 2023-05-08 à 2023-05-15\n",
      "→ Calcul des performances de 2023-05-01 à 2023-05-08\n"
     ]
    },
    {
     "name": "stderr",
     "output_type": "stream",
     "text": [
      "/Users/adam/anaconda3/lib/python3.11/site-packages/sklearn/cluster/_kmeans.py:1412: FutureWarning: The default value of `n_init` will change from 10 to 'auto' in 1.4. Set the value of `n_init` explicitly to suppress the warning\n",
      "  super()._check_params_vs_input(X, default_n_init=10)\n",
      "Equity Only: Traitement: 100%|██████████| 115/115 [00:00<00:00, 286.46it/s]\n",
      "Equity Only: Prédictions: 100%|██████████| 115/115 [00:00<00:00, 479.14it/s]\n"
     ]
    },
    {
     "name": "stdout",
     "output_type": "stream",
     "text": [
      "\n",
      "Semaine 20 : 2023-05-15 à 2023-05-22\n",
      "→ Calcul des performances de 2023-05-08 à 2023-05-15\n"
     ]
    },
    {
     "name": "stderr",
     "output_type": "stream",
     "text": [
      "/Users/adam/anaconda3/lib/python3.11/site-packages/sklearn/cluster/_kmeans.py:1412: FutureWarning: The default value of `n_init` will change from 10 to 'auto' in 1.4. Set the value of `n_init` explicitly to suppress the warning\n",
      "  super()._check_params_vs_input(X, default_n_init=10)\n",
      "Equity Only: Traitement: 100%|██████████| 115/115 [00:00<00:00, 278.15it/s]\n",
      "Equity Only: Prédictions: 100%|██████████| 115/115 [00:00<00:00, 470.09it/s]\n"
     ]
    },
    {
     "name": "stdout",
     "output_type": "stream",
     "text": [
      "\n",
      "Semaine 21 : 2023-05-22 à 2023-05-29\n",
      "→ Calcul des performances de 2023-05-15 à 2023-05-22\n"
     ]
    },
    {
     "name": "stderr",
     "output_type": "stream",
     "text": [
      "/Users/adam/anaconda3/lib/python3.11/site-packages/sklearn/cluster/_kmeans.py:1412: FutureWarning: The default value of `n_init` will change from 10 to 'auto' in 1.4. Set the value of `n_init` explicitly to suppress the warning\n",
      "  super()._check_params_vs_input(X, default_n_init=10)\n",
      "Equity Only: Traitement: 100%|██████████| 115/115 [00:00<00:00, 256.64it/s]\n",
      "Equity Only: Prédictions: 100%|██████████| 115/115 [00:00<00:00, 480.17it/s]\n"
     ]
    },
    {
     "name": "stdout",
     "output_type": "stream",
     "text": [
      "\n",
      "Semaine 22 : 2023-05-29 à 2023-06-05\n",
      "→ Calcul des performances de 2023-05-22 à 2023-05-29\n"
     ]
    },
    {
     "name": "stderr",
     "output_type": "stream",
     "text": [
      "/Users/adam/anaconda3/lib/python3.11/site-packages/sklearn/cluster/_kmeans.py:1412: FutureWarning: The default value of `n_init` will change from 10 to 'auto' in 1.4. Set the value of `n_init` explicitly to suppress the warning\n",
      "  super()._check_params_vs_input(X, default_n_init=10)\n",
      "Equity Only: Traitement: 100%|██████████| 115/115 [00:00<00:00, 291.93it/s]\n",
      "Equity Only: Prédictions: 100%|██████████| 115/115 [00:00<00:00, 421.82it/s]\n"
     ]
    },
    {
     "name": "stdout",
     "output_type": "stream",
     "text": [
      "\n",
      "Semaine 23 : 2023-06-05 à 2023-06-12\n",
      "→ Calcul des performances de 2023-05-29 à 2023-06-05\n"
     ]
    },
    {
     "name": "stderr",
     "output_type": "stream",
     "text": [
      "/Users/adam/anaconda3/lib/python3.11/site-packages/sklearn/cluster/_kmeans.py:1412: FutureWarning: The default value of `n_init` will change from 10 to 'auto' in 1.4. Set the value of `n_init` explicitly to suppress the warning\n",
      "  super()._check_params_vs_input(X, default_n_init=10)\n",
      "Equity Only: Traitement: 100%|██████████| 115/115 [00:00<00:00, 299.24it/s]\n",
      "Equity Only: Prédictions: 100%|██████████| 115/115 [00:00<00:00, 483.08it/s]\n"
     ]
    },
    {
     "name": "stdout",
     "output_type": "stream",
     "text": [
      "\n",
      "Semaine 24 : 2023-06-12 à 2023-06-19\n",
      "→ Calcul des performances de 2023-06-05 à 2023-06-12\n"
     ]
    },
    {
     "name": "stderr",
     "output_type": "stream",
     "text": [
      "/Users/adam/anaconda3/lib/python3.11/site-packages/sklearn/cluster/_kmeans.py:1412: FutureWarning: The default value of `n_init` will change from 10 to 'auto' in 1.4. Set the value of `n_init` explicitly to suppress the warning\n",
      "  super()._check_params_vs_input(X, default_n_init=10)\n",
      "Equity Only: Traitement: 100%|██████████| 115/115 [00:00<00:00, 263.26it/s]\n",
      "Equity Only: Prédictions: 100%|██████████| 115/115 [00:00<00:00, 450.45it/s]\n"
     ]
    },
    {
     "name": "stdout",
     "output_type": "stream",
     "text": [
      "\n",
      "Semaine 25 : 2023-06-19 à 2023-06-26\n",
      "→ Calcul des performances de 2023-06-12 à 2023-06-19\n"
     ]
    },
    {
     "name": "stderr",
     "output_type": "stream",
     "text": [
      "/Users/adam/anaconda3/lib/python3.11/site-packages/sklearn/cluster/_kmeans.py:1412: FutureWarning: The default value of `n_init` will change from 10 to 'auto' in 1.4. Set the value of `n_init` explicitly to suppress the warning\n",
      "  super()._check_params_vs_input(X, default_n_init=10)\n",
      "Equity Only: Traitement: 100%|██████████| 115/115 [00:00<00:00, 259.67it/s]\n",
      "Equity Only: Prédictions: 100%|██████████| 115/115 [00:00<00:00, 483.37it/s]\n"
     ]
    },
    {
     "name": "stdout",
     "output_type": "stream",
     "text": [
      "\n",
      "Semaine 26 : 2023-06-26 à 2023-07-03\n",
      "→ Calcul des performances de 2023-06-19 à 2023-06-26\n"
     ]
    },
    {
     "name": "stderr",
     "output_type": "stream",
     "text": [
      "/Users/adam/anaconda3/lib/python3.11/site-packages/sklearn/cluster/_kmeans.py:1412: FutureWarning: The default value of `n_init` will change from 10 to 'auto' in 1.4. Set the value of `n_init` explicitly to suppress the warning\n",
      "  super()._check_params_vs_input(X, default_n_init=10)\n",
      "Equity Only: Traitement: 100%|██████████| 115/115 [00:00<00:00, 256.26it/s]\n",
      "Equity Only: Prédictions: 100%|██████████| 115/115 [00:00<00:00, 488.70it/s]\n"
     ]
    },
    {
     "name": "stdout",
     "output_type": "stream",
     "text": [
      "\n",
      "Semaine 27 : 2023-07-03 à 2023-07-10\n",
      "→ Calcul des performances de 2023-06-26 à 2023-07-03\n"
     ]
    },
    {
     "name": "stderr",
     "output_type": "stream",
     "text": [
      "/Users/adam/anaconda3/lib/python3.11/site-packages/sklearn/cluster/_kmeans.py:1412: FutureWarning: The default value of `n_init` will change from 10 to 'auto' in 1.4. Set the value of `n_init` explicitly to suppress the warning\n",
      "  super()._check_params_vs_input(X, default_n_init=10)\n",
      "Equity Only: Traitement: 100%|██████████| 115/115 [00:00<00:00, 301.36it/s]\n",
      "Equity Only: Prédictions: 100%|██████████| 115/115 [00:00<00:00, 455.95it/s]\n"
     ]
    },
    {
     "name": "stdout",
     "output_type": "stream",
     "text": [
      "\n",
      "Semaine 28 : 2023-07-10 à 2023-07-17\n",
      "→ Calcul des performances de 2023-07-03 à 2023-07-10\n"
     ]
    },
    {
     "name": "stderr",
     "output_type": "stream",
     "text": [
      "/Users/adam/anaconda3/lib/python3.11/site-packages/sklearn/cluster/_kmeans.py:1412: FutureWarning: The default value of `n_init` will change from 10 to 'auto' in 1.4. Set the value of `n_init` explicitly to suppress the warning\n",
      "  super()._check_params_vs_input(X, default_n_init=10)\n",
      "Equity Only: Traitement: 100%|██████████| 115/115 [00:00<00:00, 284.42it/s]\n",
      "Equity Only: Prédictions: 100%|██████████| 115/115 [00:00<00:00, 447.75it/s]\n"
     ]
    },
    {
     "name": "stdout",
     "output_type": "stream",
     "text": [
      "\n",
      "Semaine 29 : 2023-07-17 à 2023-07-24\n",
      "→ Calcul des performances de 2023-07-10 à 2023-07-17\n"
     ]
    },
    {
     "name": "stderr",
     "output_type": "stream",
     "text": [
      "/Users/adam/anaconda3/lib/python3.11/site-packages/sklearn/cluster/_kmeans.py:1412: FutureWarning: The default value of `n_init` will change from 10 to 'auto' in 1.4. Set the value of `n_init` explicitly to suppress the warning\n",
      "  super()._check_params_vs_input(X, default_n_init=10)\n",
      "Equity Only: Traitement: 100%|██████████| 115/115 [00:00<00:00, 259.48it/s]\n",
      "Equity Only: Prédictions: 100%|██████████| 115/115 [00:00<00:00, 474.50it/s]\n"
     ]
    },
    {
     "name": "stdout",
     "output_type": "stream",
     "text": [
      "\n",
      "Semaine 30 : 2023-07-24 à 2023-07-31\n",
      "→ Calcul des performances de 2023-07-17 à 2023-07-24\n"
     ]
    },
    {
     "name": "stderr",
     "output_type": "stream",
     "text": [
      "/Users/adam/anaconda3/lib/python3.11/site-packages/sklearn/cluster/_kmeans.py:1412: FutureWarning: The default value of `n_init` will change from 10 to 'auto' in 1.4. Set the value of `n_init` explicitly to suppress the warning\n",
      "  super()._check_params_vs_input(X, default_n_init=10)\n",
      "Equity Only: Traitement: 100%|██████████| 115/115 [00:00<00:00, 258.28it/s]\n",
      "Equity Only: Prédictions: 100%|██████████| 115/115 [00:00<00:00, 499.94it/s]\n"
     ]
    },
    {
     "name": "stdout",
     "output_type": "stream",
     "text": [
      "\n",
      "Semaine 31 : 2023-07-31 à 2023-08-07\n",
      "→ Calcul des performances de 2023-07-24 à 2023-07-31\n"
     ]
    },
    {
     "name": "stderr",
     "output_type": "stream",
     "text": [
      "/Users/adam/anaconda3/lib/python3.11/site-packages/sklearn/cluster/_kmeans.py:1412: FutureWarning: The default value of `n_init` will change from 10 to 'auto' in 1.4. Set the value of `n_init` explicitly to suppress the warning\n",
      "  super()._check_params_vs_input(X, default_n_init=10)\n",
      "Equity Only: Traitement: 100%|██████████| 115/115 [00:00<00:00, 281.99it/s]\n",
      "Equity Only: Prédictions: 100%|██████████| 115/115 [00:00<00:00, 431.26it/s]\n"
     ]
    },
    {
     "name": "stdout",
     "output_type": "stream",
     "text": [
      "\n",
      "Semaine 32 : 2023-08-07 à 2023-08-14\n",
      "→ Calcul des performances de 2023-07-31 à 2023-08-07\n"
     ]
    },
    {
     "name": "stderr",
     "output_type": "stream",
     "text": [
      "/Users/adam/anaconda3/lib/python3.11/site-packages/sklearn/cluster/_kmeans.py:1412: FutureWarning: The default value of `n_init` will change from 10 to 'auto' in 1.4. Set the value of `n_init` explicitly to suppress the warning\n",
      "  super()._check_params_vs_input(X, default_n_init=10)\n",
      "Equity Only: Traitement: 100%|██████████| 115/115 [00:00<00:00, 289.75it/s]\n",
      "Equity Only: Prédictions: 100%|██████████| 115/115 [00:00<00:00, 482.70it/s]\n"
     ]
    },
    {
     "name": "stdout",
     "output_type": "stream",
     "text": [
      "\n",
      "Semaine 33 : 2023-08-14 à 2023-08-21\n",
      "→ Calcul des performances de 2023-08-07 à 2023-08-14\n"
     ]
    },
    {
     "name": "stderr",
     "output_type": "stream",
     "text": [
      "/Users/adam/anaconda3/lib/python3.11/site-packages/sklearn/cluster/_kmeans.py:1412: FutureWarning: The default value of `n_init` will change from 10 to 'auto' in 1.4. Set the value of `n_init` explicitly to suppress the warning\n",
      "  super()._check_params_vs_input(X, default_n_init=10)\n",
      "Equity Only: Traitement: 100%|██████████| 115/115 [00:00<00:00, 285.46it/s]\n",
      "Equity Only: Prédictions: 100%|██████████| 115/115 [00:00<00:00, 402.37it/s]\n"
     ]
    },
    {
     "name": "stdout",
     "output_type": "stream",
     "text": [
      "\n",
      "Semaine 34 : 2023-08-21 à 2023-08-28\n",
      "→ Calcul des performances de 2023-08-14 à 2023-08-21\n"
     ]
    },
    {
     "name": "stderr",
     "output_type": "stream",
     "text": [
      "/Users/adam/anaconda3/lib/python3.11/site-packages/sklearn/cluster/_kmeans.py:1412: FutureWarning: The default value of `n_init` will change from 10 to 'auto' in 1.4. Set the value of `n_init` explicitly to suppress the warning\n",
      "  super()._check_params_vs_input(X, default_n_init=10)\n",
      "Equity Only: Traitement: 100%|██████████| 115/115 [00:00<00:00, 259.72it/s]\n",
      "Equity Only: Prédictions: 100%|██████████| 115/115 [00:00<00:00, 454.04it/s]\n"
     ]
    },
    {
     "name": "stdout",
     "output_type": "stream",
     "text": [
      "\n",
      "Semaine 35 : 2023-08-28 à 2023-09-04\n",
      "→ Calcul des performances de 2023-08-21 à 2023-08-28\n"
     ]
    },
    {
     "name": "stderr",
     "output_type": "stream",
     "text": [
      "/Users/adam/anaconda3/lib/python3.11/site-packages/sklearn/cluster/_kmeans.py:1412: FutureWarning: The default value of `n_init` will change from 10 to 'auto' in 1.4. Set the value of `n_init` explicitly to suppress the warning\n",
      "  super()._check_params_vs_input(X, default_n_init=10)\n",
      "Equity Only: Traitement: 100%|██████████| 115/115 [00:00<00:00, 289.69it/s]\n",
      "Equity Only: Prédictions: 100%|██████████| 115/115 [00:00<00:00, 438.39it/s]\n"
     ]
    },
    {
     "name": "stdout",
     "output_type": "stream",
     "text": [
      "\n",
      "Semaine 36 : 2023-09-04 à 2023-09-11\n",
      "→ Calcul des performances de 2023-08-28 à 2023-09-04\n"
     ]
    },
    {
     "name": "stderr",
     "output_type": "stream",
     "text": [
      "/Users/adam/anaconda3/lib/python3.11/site-packages/sklearn/cluster/_kmeans.py:1412: FutureWarning: The default value of `n_init` will change from 10 to 'auto' in 1.4. Set the value of `n_init` explicitly to suppress the warning\n",
      "  super()._check_params_vs_input(X, default_n_init=10)\n",
      "Equity Only: Traitement: 100%|██████████| 115/115 [00:00<00:00, 247.48it/s]\n",
      "Equity Only: Prédictions: 100%|██████████| 115/115 [00:00<00:00, 441.25it/s]\n"
     ]
    },
    {
     "name": "stdout",
     "output_type": "stream",
     "text": [
      "\n",
      "Semaine 37 : 2023-09-11 à 2023-09-18\n",
      "→ Calcul des performances de 2023-09-04 à 2023-09-11\n"
     ]
    },
    {
     "name": "stderr",
     "output_type": "stream",
     "text": [
      "/Users/adam/anaconda3/lib/python3.11/site-packages/sklearn/cluster/_kmeans.py:1412: FutureWarning: The default value of `n_init` will change from 10 to 'auto' in 1.4. Set the value of `n_init` explicitly to suppress the warning\n",
      "  super()._check_params_vs_input(X, default_n_init=10)\n",
      "Equity Only: Traitement: 100%|██████████| 115/115 [00:00<00:00, 279.33it/s]\n",
      "Equity Only: Prédictions: 100%|██████████| 115/115 [00:00<00:00, 398.34it/s]\n"
     ]
    },
    {
     "name": "stdout",
     "output_type": "stream",
     "text": [
      "\n",
      "Semaine 38 : 2023-09-18 à 2023-09-25\n",
      "→ Calcul des performances de 2023-09-11 à 2023-09-18\n"
     ]
    },
    {
     "name": "stderr",
     "output_type": "stream",
     "text": [
      "/Users/adam/anaconda3/lib/python3.11/site-packages/sklearn/cluster/_kmeans.py:1412: FutureWarning: The default value of `n_init` will change from 10 to 'auto' in 1.4. Set the value of `n_init` explicitly to suppress the warning\n",
      "  super()._check_params_vs_input(X, default_n_init=10)\n",
      "Equity Only: Traitement: 100%|██████████| 115/115 [00:00<00:00, 274.97it/s]\n",
      "Equity Only: Prédictions: 100%|██████████| 115/115 [00:00<00:00, 397.38it/s]\n"
     ]
    },
    {
     "name": "stdout",
     "output_type": "stream",
     "text": [
      "\n",
      "Semaine 39 : 2023-09-25 à 2023-10-02\n",
      "→ Calcul des performances de 2023-09-18 à 2023-09-25\n"
     ]
    },
    {
     "name": "stderr",
     "output_type": "stream",
     "text": [
      "/Users/adam/anaconda3/lib/python3.11/site-packages/sklearn/cluster/_kmeans.py:1412: FutureWarning: The default value of `n_init` will change from 10 to 'auto' in 1.4. Set the value of `n_init` explicitly to suppress the warning\n",
      "  super()._check_params_vs_input(X, default_n_init=10)\n",
      "Equity Only: Traitement: 100%|██████████| 115/115 [00:00<00:00, 227.91it/s]\n",
      "Equity Only: Prédictions: 100%|██████████| 115/115 [00:00<00:00, 388.88it/s]\n"
     ]
    },
    {
     "name": "stdout",
     "output_type": "stream",
     "text": [
      "\n",
      "Semaine 40 : 2023-10-02 à 2023-10-09\n",
      "→ Calcul des performances de 2023-09-25 à 2023-10-02\n"
     ]
    },
    {
     "name": "stderr",
     "output_type": "stream",
     "text": [
      "/Users/adam/anaconda3/lib/python3.11/site-packages/sklearn/cluster/_kmeans.py:1412: FutureWarning: The default value of `n_init` will change from 10 to 'auto' in 1.4. Set the value of `n_init` explicitly to suppress the warning\n",
      "  super()._check_params_vs_input(X, default_n_init=10)\n",
      "Equity Only: Traitement: 100%|██████████| 115/115 [00:00<00:00, 261.37it/s]\n",
      "Equity Only: Prédictions: 100%|██████████| 115/115 [00:00<00:00, 462.86it/s]\n"
     ]
    },
    {
     "name": "stdout",
     "output_type": "stream",
     "text": [
      "\n",
      "Semaine 41 : 2023-10-09 à 2023-10-16\n",
      "→ Calcul des performances de 2023-10-02 à 2023-10-09\n"
     ]
    },
    {
     "name": "stderr",
     "output_type": "stream",
     "text": [
      "/Users/adam/anaconda3/lib/python3.11/site-packages/sklearn/cluster/_kmeans.py:1412: FutureWarning: The default value of `n_init` will change from 10 to 'auto' in 1.4. Set the value of `n_init` explicitly to suppress the warning\n",
      "  super()._check_params_vs_input(X, default_n_init=10)\n",
      "Equity Only: Traitement: 100%|██████████| 115/115 [00:00<00:00, 280.49it/s]\n",
      "Equity Only: Prédictions: 100%|██████████| 115/115 [00:00<00:00, 505.44it/s]\n"
     ]
    },
    {
     "name": "stdout",
     "output_type": "stream",
     "text": [
      "\n",
      "Semaine 42 : 2023-10-16 à 2023-10-23\n",
      "→ Calcul des performances de 2023-10-09 à 2023-10-16\n"
     ]
    },
    {
     "name": "stderr",
     "output_type": "stream",
     "text": [
      "/Users/adam/anaconda3/lib/python3.11/site-packages/sklearn/cluster/_kmeans.py:1412: FutureWarning: The default value of `n_init` will change from 10 to 'auto' in 1.4. Set the value of `n_init` explicitly to suppress the warning\n",
      "  super()._check_params_vs_input(X, default_n_init=10)\n",
      "Equity Only: Traitement: 100%|██████████| 115/115 [00:00<00:00, 281.19it/s]\n",
      "Equity Only: Prédictions: 100%|██████████| 115/115 [00:00<00:00, 491.70it/s]\n"
     ]
    },
    {
     "name": "stdout",
     "output_type": "stream",
     "text": [
      "\n",
      "Semaine 43 : 2023-10-23 à 2023-10-30\n",
      "→ Calcul des performances de 2023-10-16 à 2023-10-23\n"
     ]
    },
    {
     "name": "stderr",
     "output_type": "stream",
     "text": [
      "/Users/adam/anaconda3/lib/python3.11/site-packages/sklearn/cluster/_kmeans.py:1412: FutureWarning: The default value of `n_init` will change from 10 to 'auto' in 1.4. Set the value of `n_init` explicitly to suppress the warning\n",
      "  super()._check_params_vs_input(X, default_n_init=10)\n",
      "Equity Only: Traitement: 100%|██████████| 115/115 [00:00<00:00, 253.58it/s]\n",
      "Equity Only: Prédictions: 100%|██████████| 115/115 [00:00<00:00, 423.24it/s]\n"
     ]
    },
    {
     "name": "stdout",
     "output_type": "stream",
     "text": [
      "\n",
      "Semaine 44 : 2023-10-30 à 2023-11-06\n",
      "→ Calcul des performances de 2023-10-23 à 2023-10-30\n"
     ]
    },
    {
     "name": "stderr",
     "output_type": "stream",
     "text": [
      "/Users/adam/anaconda3/lib/python3.11/site-packages/sklearn/cluster/_kmeans.py:1412: FutureWarning: The default value of `n_init` will change from 10 to 'auto' in 1.4. Set the value of `n_init` explicitly to suppress the warning\n",
      "  super()._check_params_vs_input(X, default_n_init=10)\n",
      "Equity Only: Traitement: 100%|██████████| 115/115 [00:00<00:00, 258.52it/s]\n",
      "Equity Only: Prédictions: 100%|██████████| 115/115 [00:00<00:00, 464.02it/s]\n"
     ]
    },
    {
     "name": "stdout",
     "output_type": "stream",
     "text": [
      "\n",
      "Semaine 45 : 2023-11-06 à 2023-11-13\n",
      "→ Calcul des performances de 2023-10-30 à 2023-11-06\n"
     ]
    },
    {
     "name": "stderr",
     "output_type": "stream",
     "text": [
      "/Users/adam/anaconda3/lib/python3.11/site-packages/sklearn/cluster/_kmeans.py:1412: FutureWarning: The default value of `n_init` will change from 10 to 'auto' in 1.4. Set the value of `n_init` explicitly to suppress the warning\n",
      "  super()._check_params_vs_input(X, default_n_init=10)\n",
      "Equity Only: Traitement: 100%|██████████| 115/115 [00:00<00:00, 299.10it/s]\n",
      "Equity Only: Prédictions: 100%|██████████| 115/115 [00:00<00:00, 435.78it/s]\n"
     ]
    },
    {
     "name": "stdout",
     "output_type": "stream",
     "text": [
      "\n",
      "Semaine 46 : 2023-11-13 à 2023-11-20\n",
      "→ Calcul des performances de 2023-11-06 à 2023-11-13\n"
     ]
    },
    {
     "name": "stderr",
     "output_type": "stream",
     "text": [
      "/Users/adam/anaconda3/lib/python3.11/site-packages/sklearn/cluster/_kmeans.py:1412: FutureWarning: The default value of `n_init` will change from 10 to 'auto' in 1.4. Set the value of `n_init` explicitly to suppress the warning\n",
      "  super()._check_params_vs_input(X, default_n_init=10)\n",
      "Equity Only: Traitement: 100%|██████████| 115/115 [00:00<00:00, 252.99it/s]\n",
      "Equity Only: Prédictions: 100%|██████████| 115/115 [00:00<00:00, 375.13it/s]\n"
     ]
    },
    {
     "name": "stdout",
     "output_type": "stream",
     "text": [
      "\n",
      "Semaine 47 : 2023-11-20 à 2023-11-27\n",
      "→ Calcul des performances de 2023-11-13 à 2023-11-20\n"
     ]
    },
    {
     "name": "stderr",
     "output_type": "stream",
     "text": [
      "/Users/adam/anaconda3/lib/python3.11/site-packages/sklearn/cluster/_kmeans.py:1412: FutureWarning: The default value of `n_init` will change from 10 to 'auto' in 1.4. Set the value of `n_init` explicitly to suppress the warning\n",
      "  super()._check_params_vs_input(X, default_n_init=10)\n",
      "Equity Only: Traitement: 100%|██████████| 115/115 [00:00<00:00, 280.10it/s]\n",
      "Equity Only: Prédictions: 100%|██████████| 115/115 [00:00<00:00, 386.57it/s]\n"
     ]
    },
    {
     "name": "stdout",
     "output_type": "stream",
     "text": [
      "\n",
      "Semaine 48 : 2023-11-27 à 2023-12-04\n",
      "→ Calcul des performances de 2023-11-20 à 2023-11-27\n"
     ]
    },
    {
     "name": "stderr",
     "output_type": "stream",
     "text": [
      "/Users/adam/anaconda3/lib/python3.11/site-packages/sklearn/cluster/_kmeans.py:1412: FutureWarning: The default value of `n_init` will change from 10 to 'auto' in 1.4. Set the value of `n_init` explicitly to suppress the warning\n",
      "  super()._check_params_vs_input(X, default_n_init=10)\n",
      "Equity Only: Traitement: 100%|██████████| 115/115 [00:00<00:00, 249.27it/s]\n",
      "Equity Only: Prédictions: 100%|██████████| 115/115 [00:00<00:00, 476.63it/s]\n"
     ]
    },
    {
     "name": "stdout",
     "output_type": "stream",
     "text": [
      "\n",
      "Semaine 49 : 2023-12-04 à 2023-12-11\n",
      "→ Calcul des performances de 2023-11-27 à 2023-12-04\n"
     ]
    },
    {
     "name": "stderr",
     "output_type": "stream",
     "text": [
      "/Users/adam/anaconda3/lib/python3.11/site-packages/sklearn/cluster/_kmeans.py:1412: FutureWarning: The default value of `n_init` will change from 10 to 'auto' in 1.4. Set the value of `n_init` explicitly to suppress the warning\n",
      "  super()._check_params_vs_input(X, default_n_init=10)\n",
      "Equity Only: Traitement: 100%|██████████| 115/115 [00:00<00:00, 270.04it/s]\n",
      "Equity Only: Prédictions: 100%|██████████| 115/115 [00:00<00:00, 448.80it/s]\n"
     ]
    },
    {
     "name": "stdout",
     "output_type": "stream",
     "text": [
      "\n",
      "Semaine 50 : 2023-12-11 à 2023-12-18\n",
      "→ Calcul des performances de 2023-12-04 à 2023-12-11\n"
     ]
    },
    {
     "name": "stderr",
     "output_type": "stream",
     "text": [
      "/Users/adam/anaconda3/lib/python3.11/site-packages/sklearn/cluster/_kmeans.py:1412: FutureWarning: The default value of `n_init` will change from 10 to 'auto' in 1.4. Set the value of `n_init` explicitly to suppress the warning\n",
      "  super()._check_params_vs_input(X, default_n_init=10)\n",
      "Equity Only: Traitement: 100%|██████████| 115/115 [00:00<00:00, 282.59it/s]\n",
      "Equity Only: Prédictions: 100%|██████████| 115/115 [00:00<00:00, 494.97it/s]\n"
     ]
    },
    {
     "name": "stdout",
     "output_type": "stream",
     "text": [
      "\n",
      "Semaine 51 : 2023-12-18 à 2023-12-25\n",
      "→ Calcul des performances de 2023-12-11 à 2023-12-18\n"
     ]
    },
    {
     "name": "stderr",
     "output_type": "stream",
     "text": [
      "/Users/adam/anaconda3/lib/python3.11/site-packages/sklearn/cluster/_kmeans.py:1412: FutureWarning: The default value of `n_init` will change from 10 to 'auto' in 1.4. Set the value of `n_init` explicitly to suppress the warning\n",
      "  super()._check_params_vs_input(X, default_n_init=10)\n",
      "Equity Only: Traitement: 100%|██████████| 115/115 [00:00<00:00, 278.40it/s]\n",
      "Equity Only: Prédictions: 100%|██████████| 115/115 [00:00<00:00, 481.30it/s]\n"
     ]
    },
    {
     "name": "stdout",
     "output_type": "stream",
     "text": [
      "\n",
      "Semaine 52 : 2023-12-25 à 2024-01-01\n",
      "→ Calcul des performances de 2023-12-18 à 2023-12-25\n"
     ]
    },
    {
     "name": "stderr",
     "output_type": "stream",
     "text": [
      "/Users/adam/anaconda3/lib/python3.11/site-packages/sklearn/cluster/_kmeans.py:1412: FutureWarning: The default value of `n_init` will change from 10 to 'auto' in 1.4. Set the value of `n_init` explicitly to suppress the warning\n",
      "  super()._check_params_vs_input(X, default_n_init=10)\n",
      "Equity Only: Traitement: 100%|██████████| 115/115 [00:00<00:00, 282.39it/s]\n",
      "Equity Only: Prédictions: 100%|██████████| 115/115 [00:00<00:00, 482.98it/s]\n"
     ]
    },
    {
     "name": "stdout",
     "output_type": "stream",
     "text": [
      "\n",
      "Semaine 53 : 2024-01-01 à 2024-01-08\n",
      "→ Calcul des performances de 2023-12-25 à 2024-01-01\n"
     ]
    },
    {
     "name": "stderr",
     "output_type": "stream",
     "text": [
      "/Users/adam/anaconda3/lib/python3.11/site-packages/sklearn/cluster/_kmeans.py:1412: FutureWarning: The default value of `n_init` will change from 10 to 'auto' in 1.4. Set the value of `n_init` explicitly to suppress the warning\n",
      "  super()._check_params_vs_input(X, default_n_init=10)\n",
      "Equity Only: Traitement: 100%|██████████| 115/115 [00:00<00:00, 269.44it/s]\n",
      "Equity Only: Prédictions: 100%|██████████| 115/115 [00:00<00:00, 508.38it/s]\n"
     ]
    },
    {
     "name": "stdout",
     "output_type": "stream",
     "text": [
      "\n",
      "Semaine 54 : 2024-01-08 à 2024-01-15\n",
      "→ Calcul des performances de 2024-01-01 à 2024-01-08\n"
     ]
    },
    {
     "name": "stderr",
     "output_type": "stream",
     "text": [
      "/Users/adam/anaconda3/lib/python3.11/site-packages/sklearn/cluster/_kmeans.py:1412: FutureWarning: The default value of `n_init` will change from 10 to 'auto' in 1.4. Set the value of `n_init` explicitly to suppress the warning\n",
      "  super()._check_params_vs_input(X, default_n_init=10)\n",
      "Equity Only: Traitement: 100%|██████████| 115/115 [00:00<00:00, 251.01it/s]\n",
      "Equity Only: Prédictions: 100%|██████████| 115/115 [00:00<00:00, 496.91it/s]\n"
     ]
    },
    {
     "name": "stdout",
     "output_type": "stream",
     "text": [
      "\n",
      "Semaine 55 : 2024-01-15 à 2024-01-22\n",
      "→ Calcul des performances de 2024-01-08 à 2024-01-15\n"
     ]
    },
    {
     "name": "stderr",
     "output_type": "stream",
     "text": [
      "/Users/adam/anaconda3/lib/python3.11/site-packages/sklearn/cluster/_kmeans.py:1412: FutureWarning: The default value of `n_init` will change from 10 to 'auto' in 1.4. Set the value of `n_init` explicitly to suppress the warning\n",
      "  super()._check_params_vs_input(X, default_n_init=10)\n",
      "Equity Only: Traitement: 100%|██████████| 115/115 [00:00<00:00, 284.88it/s]\n",
      "Equity Only: Prédictions: 100%|██████████| 115/115 [00:00<00:00, 424.63it/s]\n"
     ]
    },
    {
     "name": "stdout",
     "output_type": "stream",
     "text": [
      "\n",
      "Semaine 56 : 2024-01-22 à 2024-01-29\n",
      "→ Calcul des performances de 2024-01-15 à 2024-01-22\n"
     ]
    },
    {
     "name": "stderr",
     "output_type": "stream",
     "text": [
      "/Users/adam/anaconda3/lib/python3.11/site-packages/sklearn/cluster/_kmeans.py:1412: FutureWarning: The default value of `n_init` will change from 10 to 'auto' in 1.4. Set the value of `n_init` explicitly to suppress the warning\n",
      "  super()._check_params_vs_input(X, default_n_init=10)\n",
      "Equity Only: Traitement: 100%|██████████| 115/115 [00:00<00:00, 282.80it/s]\n",
      "Equity Only: Prédictions: 100%|██████████| 115/115 [00:00<00:00, 504.85it/s]\n"
     ]
    },
    {
     "name": "stdout",
     "output_type": "stream",
     "text": [
      "\n",
      "Semaine 57 : 2024-01-29 à 2024-02-05\n",
      "→ Calcul des performances de 2024-01-22 à 2024-01-29\n"
     ]
    },
    {
     "name": "stderr",
     "output_type": "stream",
     "text": [
      "/Users/adam/anaconda3/lib/python3.11/site-packages/sklearn/cluster/_kmeans.py:1412: FutureWarning: The default value of `n_init` will change from 10 to 'auto' in 1.4. Set the value of `n_init` explicitly to suppress the warning\n",
      "  super()._check_params_vs_input(X, default_n_init=10)\n",
      "Equity Only: Traitement: 100%|██████████| 115/115 [00:00<00:00, 278.58it/s]\n",
      "Equity Only: Prédictions: 100%|██████████| 115/115 [00:00<00:00, 519.57it/s]\n"
     ]
    },
    {
     "name": "stdout",
     "output_type": "stream",
     "text": [
      "\n",
      "Semaine 58 : 2024-02-05 à 2024-02-12\n",
      "→ Calcul des performances de 2024-01-29 à 2024-02-05\n"
     ]
    },
    {
     "name": "stderr",
     "output_type": "stream",
     "text": [
      "/Users/adam/anaconda3/lib/python3.11/site-packages/sklearn/cluster/_kmeans.py:1412: FutureWarning: The default value of `n_init` will change from 10 to 'auto' in 1.4. Set the value of `n_init` explicitly to suppress the warning\n",
      "  super()._check_params_vs_input(X, default_n_init=10)\n",
      "Equity Only: Traitement: 100%|██████████| 115/115 [00:00<00:00, 297.56it/s]\n",
      "Equity Only: Prédictions: 100%|██████████| 115/115 [00:00<00:00, 491.60it/s]\n"
     ]
    },
    {
     "name": "stdout",
     "output_type": "stream",
     "text": [
      "\n",
      "Semaine 59 : 2024-02-12 à 2024-02-19\n",
      "→ Calcul des performances de 2024-02-05 à 2024-02-12\n"
     ]
    },
    {
     "name": "stderr",
     "output_type": "stream",
     "text": [
      "/Users/adam/anaconda3/lib/python3.11/site-packages/sklearn/cluster/_kmeans.py:1412: FutureWarning: The default value of `n_init` will change from 10 to 'auto' in 1.4. Set the value of `n_init` explicitly to suppress the warning\n",
      "  super()._check_params_vs_input(X, default_n_init=10)\n",
      "Equity Only: Traitement: 100%|██████████| 115/115 [00:00<00:00, 250.15it/s]\n",
      "Equity Only: Prédictions: 100%|██████████| 115/115 [00:00<00:00, 513.71it/s]\n"
     ]
    },
    {
     "name": "stdout",
     "output_type": "stream",
     "text": [
      "\n",
      "Semaine 60 : 2024-02-19 à 2024-02-26\n",
      "→ Calcul des performances de 2024-02-12 à 2024-02-19\n"
     ]
    },
    {
     "name": "stderr",
     "output_type": "stream",
     "text": [
      "/Users/adam/anaconda3/lib/python3.11/site-packages/sklearn/cluster/_kmeans.py:1412: FutureWarning: The default value of `n_init` will change from 10 to 'auto' in 1.4. Set the value of `n_init` explicitly to suppress the warning\n",
      "  super()._check_params_vs_input(X, default_n_init=10)\n",
      "Equity Only: Traitement: 100%|██████████| 115/115 [00:00<00:00, 261.40it/s]\n",
      "Equity Only: Prédictions: 100%|██████████| 115/115 [00:00<00:00, 483.80it/s]\n"
     ]
    },
    {
     "name": "stdout",
     "output_type": "stream",
     "text": [
      "\n",
      "Semaine 61 : 2024-02-26 à 2024-03-04\n",
      "→ Calcul des performances de 2024-02-19 à 2024-02-26\n"
     ]
    },
    {
     "name": "stderr",
     "output_type": "stream",
     "text": [
      "/Users/adam/anaconda3/lib/python3.11/site-packages/sklearn/cluster/_kmeans.py:1412: FutureWarning: The default value of `n_init` will change from 10 to 'auto' in 1.4. Set the value of `n_init` explicitly to suppress the warning\n",
      "  super()._check_params_vs_input(X, default_n_init=10)\n",
      "Equity Only: Traitement: 100%|██████████| 115/115 [00:00<00:00, 287.06it/s]\n",
      "Equity Only: Prédictions: 100%|██████████| 115/115 [00:00<00:00, 428.14it/s]\n"
     ]
    },
    {
     "name": "stdout",
     "output_type": "stream",
     "text": [
      "\n",
      "Semaine 62 : 2024-03-04 à 2024-03-11\n",
      "→ Calcul des performances de 2024-02-26 à 2024-03-04\n"
     ]
    },
    {
     "name": "stderr",
     "output_type": "stream",
     "text": [
      "/Users/adam/anaconda3/lib/python3.11/site-packages/sklearn/cluster/_kmeans.py:1412: FutureWarning: The default value of `n_init` will change from 10 to 'auto' in 1.4. Set the value of `n_init` explicitly to suppress the warning\n",
      "  super()._check_params_vs_input(X, default_n_init=10)\n",
      "Equity Only: Traitement: 100%|██████████| 115/115 [00:00<00:00, 295.20it/s]\n",
      "Equity Only: Prédictions: 100%|██████████| 115/115 [00:00<00:00, 501.87it/s]\n"
     ]
    },
    {
     "name": "stdout",
     "output_type": "stream",
     "text": [
      "\n",
      "Semaine 63 : 2024-03-11 à 2024-03-18\n",
      "→ Calcul des performances de 2024-03-04 à 2024-03-11\n"
     ]
    },
    {
     "name": "stderr",
     "output_type": "stream",
     "text": [
      "/Users/adam/anaconda3/lib/python3.11/site-packages/sklearn/cluster/_kmeans.py:1412: FutureWarning: The default value of `n_init` will change from 10 to 'auto' in 1.4. Set the value of `n_init` explicitly to suppress the warning\n",
      "  super()._check_params_vs_input(X, default_n_init=10)\n",
      "Equity Only: Traitement: 100%|██████████| 115/115 [00:00<00:00, 272.74it/s]\n",
      "Equity Only: Prédictions: 100%|██████████| 115/115 [00:00<00:00, 491.79it/s]\n"
     ]
    },
    {
     "name": "stdout",
     "output_type": "stream",
     "text": [
      "\n",
      "Semaine 64 : 2024-03-18 à 2024-03-25\n",
      "→ Calcul des performances de 2024-03-11 à 2024-03-18\n"
     ]
    },
    {
     "name": "stderr",
     "output_type": "stream",
     "text": [
      "/Users/adam/anaconda3/lib/python3.11/site-packages/sklearn/cluster/_kmeans.py:1412: FutureWarning: The default value of `n_init` will change from 10 to 'auto' in 1.4. Set the value of `n_init` explicitly to suppress the warning\n",
      "  super()._check_params_vs_input(X, default_n_init=10)\n",
      "Equity Only: Traitement: 100%|██████████| 115/115 [00:00<00:00, 250.67it/s]\n",
      "Equity Only: Prédictions: 100%|██████████| 115/115 [00:00<00:00, 475.01it/s]\n"
     ]
    },
    {
     "name": "stdout",
     "output_type": "stream",
     "text": [
      "\n",
      "Semaine 65 : 2024-03-25 à 2024-04-01\n",
      "→ Calcul des performances de 2024-03-18 à 2024-03-25\n"
     ]
    },
    {
     "name": "stderr",
     "output_type": "stream",
     "text": [
      "/Users/adam/anaconda3/lib/python3.11/site-packages/sklearn/cluster/_kmeans.py:1412: FutureWarning: The default value of `n_init` will change from 10 to 'auto' in 1.4. Set the value of `n_init` explicitly to suppress the warning\n",
      "  super()._check_params_vs_input(X, default_n_init=10)\n",
      "Equity Only: Traitement: 100%|██████████| 115/115 [00:00<00:00, 256.88it/s]\n",
      "Equity Only: Prédictions: 100%|██████████| 115/115 [00:00<00:00, 470.26it/s]\n"
     ]
    },
    {
     "name": "stdout",
     "output_type": "stream",
     "text": [
      "\n",
      "Semaine 66 : 2024-04-01 à 2024-04-08\n",
      "→ Calcul des performances de 2024-03-25 à 2024-04-01\n"
     ]
    },
    {
     "name": "stderr",
     "output_type": "stream",
     "text": [
      "/Users/adam/anaconda3/lib/python3.11/site-packages/sklearn/cluster/_kmeans.py:1412: FutureWarning: The default value of `n_init` will change from 10 to 'auto' in 1.4. Set the value of `n_init` explicitly to suppress the warning\n",
      "  super()._check_params_vs_input(X, default_n_init=10)\n",
      "Equity Only: Traitement: 100%|██████████| 115/115 [00:00<00:00, 295.50it/s]\n",
      "Equity Only: Prédictions: 100%|██████████| 115/115 [00:00<00:00, 396.45it/s]\n"
     ]
    },
    {
     "name": "stdout",
     "output_type": "stream",
     "text": [
      "\n",
      "Semaine 67 : 2024-04-08 à 2024-04-15\n",
      "→ Calcul des performances de 2024-04-01 à 2024-04-08\n"
     ]
    },
    {
     "name": "stderr",
     "output_type": "stream",
     "text": [
      "/Users/adam/anaconda3/lib/python3.11/site-packages/sklearn/cluster/_kmeans.py:1412: FutureWarning: The default value of `n_init` will change from 10 to 'auto' in 1.4. Set the value of `n_init` explicitly to suppress the warning\n",
      "  super()._check_params_vs_input(X, default_n_init=10)\n",
      "Equity Only: Traitement: 100%|██████████| 115/115 [00:00<00:00, 285.42it/s]\n",
      "Equity Only: Prédictions: 100%|██████████| 115/115 [00:00<00:00, 473.73it/s]\n"
     ]
    },
    {
     "name": "stdout",
     "output_type": "stream",
     "text": [
      "\n",
      "Semaine 68 : 2024-04-15 à 2024-04-22\n",
      "→ Calcul des performances de 2024-04-08 à 2024-04-15\n"
     ]
    },
    {
     "name": "stderr",
     "output_type": "stream",
     "text": [
      "/Users/adam/anaconda3/lib/python3.11/site-packages/sklearn/cluster/_kmeans.py:1412: FutureWarning: The default value of `n_init` will change from 10 to 'auto' in 1.4. Set the value of `n_init` explicitly to suppress the warning\n",
      "  super()._check_params_vs_input(X, default_n_init=10)\n",
      "Equity Only: Traitement: 100%|██████████| 115/115 [00:00<00:00, 234.44it/s]\n",
      "Equity Only: Prédictions: 100%|██████████| 115/115 [00:00<00:00, 481.00it/s]\n"
     ]
    },
    {
     "name": "stdout",
     "output_type": "stream",
     "text": [
      "\n",
      "Semaine 69 : 2024-04-22 à 2024-04-29\n",
      "→ Calcul des performances de 2024-04-15 à 2024-04-22\n"
     ]
    },
    {
     "name": "stderr",
     "output_type": "stream",
     "text": [
      "/Users/adam/anaconda3/lib/python3.11/site-packages/sklearn/cluster/_kmeans.py:1412: FutureWarning: The default value of `n_init` will change from 10 to 'auto' in 1.4. Set the value of `n_init` explicitly to suppress the warning\n",
      "  super()._check_params_vs_input(X, default_n_init=10)\n",
      "Equity Only: Traitement: 100%|██████████| 115/115 [00:00<00:00, 219.61it/s]\n",
      "Equity Only: Prédictions: 100%|██████████| 115/115 [00:00<00:00, 471.03it/s]\n"
     ]
    },
    {
     "name": "stdout",
     "output_type": "stream",
     "text": [
      "\n",
      "Semaine 70 : 2024-04-29 à 2024-05-06\n",
      "→ Calcul des performances de 2024-04-22 à 2024-04-29\n"
     ]
    },
    {
     "name": "stderr",
     "output_type": "stream",
     "text": [
      "/Users/adam/anaconda3/lib/python3.11/site-packages/sklearn/cluster/_kmeans.py:1412: FutureWarning: The default value of `n_init` will change from 10 to 'auto' in 1.4. Set the value of `n_init` explicitly to suppress the warning\n",
      "  super()._check_params_vs_input(X, default_n_init=10)\n",
      "Equity Only: Traitement: 100%|██████████| 115/115 [00:00<00:00, 204.33it/s]\n",
      "Equity Only: Prédictions: 100%|██████████| 115/115 [00:00<00:00, 499.32it/s]\n"
     ]
    },
    {
     "name": "stdout",
     "output_type": "stream",
     "text": [
      "\n",
      "Semaine 71 : 2024-05-06 à 2024-05-13\n",
      "→ Calcul des performances de 2024-04-29 à 2024-05-06\n"
     ]
    },
    {
     "name": "stderr",
     "output_type": "stream",
     "text": [
      "/Users/adam/anaconda3/lib/python3.11/site-packages/sklearn/cluster/_kmeans.py:1412: FutureWarning: The default value of `n_init` will change from 10 to 'auto' in 1.4. Set the value of `n_init` explicitly to suppress the warning\n",
      "  super()._check_params_vs_input(X, default_n_init=10)\n",
      "Equity Only: Traitement: 100%|██████████| 115/115 [00:00<00:00, 270.11it/s]\n",
      "Equity Only: Prédictions: 100%|██████████| 115/115 [00:00<00:00, 474.44it/s]\n"
     ]
    },
    {
     "name": "stdout",
     "output_type": "stream",
     "text": [
      "\n",
      "Semaine 72 : 2024-05-13 à 2024-05-20\n",
      "→ Calcul des performances de 2024-05-06 à 2024-05-13\n"
     ]
    },
    {
     "name": "stderr",
     "output_type": "stream",
     "text": [
      "/Users/adam/anaconda3/lib/python3.11/site-packages/sklearn/cluster/_kmeans.py:1412: FutureWarning: The default value of `n_init` will change from 10 to 'auto' in 1.4. Set the value of `n_init` explicitly to suppress the warning\n",
      "  super()._check_params_vs_input(X, default_n_init=10)\n",
      "Equity Only: Traitement: 100%|██████████| 115/115 [00:00<00:00, 274.55it/s]\n",
      "Equity Only: Prédictions: 100%|██████████| 115/115 [00:00<00:00, 373.31it/s]\n"
     ]
    },
    {
     "name": "stdout",
     "output_type": "stream",
     "text": [
      "\n",
      "Semaine 73 : 2024-05-20 à 2024-05-27\n",
      "→ Calcul des performances de 2024-05-13 à 2024-05-20\n"
     ]
    },
    {
     "name": "stderr",
     "output_type": "stream",
     "text": [
      "/Users/adam/anaconda3/lib/python3.11/site-packages/sklearn/cluster/_kmeans.py:1412: FutureWarning: The default value of `n_init` will change from 10 to 'auto' in 1.4. Set the value of `n_init` explicitly to suppress the warning\n",
      "  super()._check_params_vs_input(X, default_n_init=10)\n",
      "Equity Only: Traitement: 100%|██████████| 115/115 [00:00<00:00, 273.81it/s]\n",
      "Equity Only: Prédictions: 100%|██████████| 115/115 [00:00<00:00, 441.13it/s]\n"
     ]
    },
    {
     "name": "stdout",
     "output_type": "stream",
     "text": [
      "\n",
      "Semaine 74 : 2024-05-27 à 2024-06-03\n",
      "→ Calcul des performances de 2024-05-20 à 2024-05-27\n"
     ]
    },
    {
     "name": "stderr",
     "output_type": "stream",
     "text": [
      "/Users/adam/anaconda3/lib/python3.11/site-packages/sklearn/cluster/_kmeans.py:1412: FutureWarning: The default value of `n_init` will change from 10 to 'auto' in 1.4. Set the value of `n_init` explicitly to suppress the warning\n",
      "  super()._check_params_vs_input(X, default_n_init=10)\n",
      "Equity Only: Traitement: 100%|██████████| 115/115 [00:00<00:00, 279.20it/s]\n",
      "Equity Only: Prédictions: 100%|██████████| 115/115 [00:00<00:00, 422.86it/s]\n"
     ]
    },
    {
     "name": "stdout",
     "output_type": "stream",
     "text": [
      "\n",
      "Semaine 75 : 2024-06-03 à 2024-06-10\n",
      "→ Calcul des performances de 2024-05-27 à 2024-06-03\n"
     ]
    },
    {
     "name": "stderr",
     "output_type": "stream",
     "text": [
      "/Users/adam/anaconda3/lib/python3.11/site-packages/sklearn/cluster/_kmeans.py:1412: FutureWarning: The default value of `n_init` will change from 10 to 'auto' in 1.4. Set the value of `n_init` explicitly to suppress the warning\n",
      "  super()._check_params_vs_input(X, default_n_init=10)\n",
      "Equity Only: Traitement: 100%|██████████| 115/115 [00:00<00:00, 295.38it/s]\n",
      "Equity Only: Prédictions: 100%|██████████| 115/115 [00:00<00:00, 499.32it/s]\n"
     ]
    },
    {
     "name": "stdout",
     "output_type": "stream",
     "text": [
      "\n",
      "Semaine 76 : 2024-06-10 à 2024-06-17\n",
      "→ Calcul des performances de 2024-06-03 à 2024-06-10\n"
     ]
    },
    {
     "name": "stderr",
     "output_type": "stream",
     "text": [
      "/Users/adam/anaconda3/lib/python3.11/site-packages/sklearn/cluster/_kmeans.py:1412: FutureWarning: The default value of `n_init` will change from 10 to 'auto' in 1.4. Set the value of `n_init` explicitly to suppress the warning\n",
      "  super()._check_params_vs_input(X, default_n_init=10)\n",
      "Equity Only: Traitement: 100%|██████████| 115/115 [00:00<00:00, 258.43it/s]\n",
      "Equity Only: Prédictions: 100%|██████████| 115/115 [00:00<00:00, 488.14it/s]\n"
     ]
    },
    {
     "name": "stdout",
     "output_type": "stream",
     "text": [
      "\n",
      "Semaine 77 : 2024-06-17 à 2024-06-24\n",
      "→ Calcul des performances de 2024-06-10 à 2024-06-17\n"
     ]
    },
    {
     "name": "stderr",
     "output_type": "stream",
     "text": [
      "/Users/adam/anaconda3/lib/python3.11/site-packages/sklearn/cluster/_kmeans.py:1412: FutureWarning: The default value of `n_init` will change from 10 to 'auto' in 1.4. Set the value of `n_init` explicitly to suppress the warning\n",
      "  super()._check_params_vs_input(X, default_n_init=10)\n",
      "Equity Only: Traitement: 100%|██████████| 115/115 [00:00<00:00, 250.89it/s]\n",
      "Equity Only: Prédictions: 100%|██████████| 115/115 [00:00<00:00, 477.86it/s]\n"
     ]
    },
    {
     "name": "stdout",
     "output_type": "stream",
     "text": [
      "\n",
      "Semaine 78 : 2024-06-24 à 2024-07-01\n",
      "→ Calcul des performances de 2024-06-17 à 2024-06-24\n"
     ]
    },
    {
     "name": "stderr",
     "output_type": "stream",
     "text": [
      "/Users/adam/anaconda3/lib/python3.11/site-packages/sklearn/cluster/_kmeans.py:1412: FutureWarning: The default value of `n_init` will change from 10 to 'auto' in 1.4. Set the value of `n_init` explicitly to suppress the warning\n",
      "  super()._check_params_vs_input(X, default_n_init=10)\n",
      "Equity Only: Traitement: 100%|██████████| 115/115 [00:00<00:00, 276.11it/s]\n",
      "Equity Only: Prédictions: 100%|██████████| 115/115 [00:00<00:00, 447.90it/s]\n"
     ]
    },
    {
     "name": "stdout",
     "output_type": "stream",
     "text": [
      "\n",
      "Semaine 79 : 2024-07-01 à 2024-07-08\n",
      "→ Calcul des performances de 2024-06-24 à 2024-07-01\n"
     ]
    },
    {
     "name": "stderr",
     "output_type": "stream",
     "text": [
      "/Users/adam/anaconda3/lib/python3.11/site-packages/sklearn/cluster/_kmeans.py:1412: FutureWarning: The default value of `n_init` will change from 10 to 'auto' in 1.4. Set the value of `n_init` explicitly to suppress the warning\n",
      "  super()._check_params_vs_input(X, default_n_init=10)\n",
      "Equity Only: Traitement: 100%|██████████| 115/115 [00:00<00:00, 294.54it/s]\n",
      "Equity Only: Prédictions: 100%|██████████| 115/115 [00:00<00:00, 490.67it/s]\n"
     ]
    },
    {
     "name": "stdout",
     "output_type": "stream",
     "text": [
      "\n",
      "Semaine 80 : 2024-07-08 à 2024-07-15\n",
      "→ Calcul des performances de 2024-07-01 à 2024-07-08\n"
     ]
    },
    {
     "name": "stderr",
     "output_type": "stream",
     "text": [
      "/Users/adam/anaconda3/lib/python3.11/site-packages/sklearn/cluster/_kmeans.py:1412: FutureWarning: The default value of `n_init` will change from 10 to 'auto' in 1.4. Set the value of `n_init` explicitly to suppress the warning\n",
      "  super()._check_params_vs_input(X, default_n_init=10)\n",
      "Equity Only: Traitement: 100%|██████████| 115/115 [00:00<00:00, 275.29it/s]\n",
      "Equity Only: Prédictions: 100%|██████████| 115/115 [00:00<00:00, 471.93it/s]\n"
     ]
    },
    {
     "name": "stdout",
     "output_type": "stream",
     "text": [
      "\n",
      "Semaine 81 : 2024-07-15 à 2024-07-22\n",
      "→ Calcul des performances de 2024-07-08 à 2024-07-15\n"
     ]
    },
    {
     "name": "stderr",
     "output_type": "stream",
     "text": [
      "/Users/adam/anaconda3/lib/python3.11/site-packages/sklearn/cluster/_kmeans.py:1412: FutureWarning: The default value of `n_init` will change from 10 to 'auto' in 1.4. Set the value of `n_init` explicitly to suppress the warning\n",
      "  super()._check_params_vs_input(X, default_n_init=10)\n",
      "Equity Only: Traitement: 100%|██████████| 115/115 [00:00<00:00, 251.54it/s]\n",
      "Equity Only: Prédictions: 100%|██████████| 115/115 [00:00<00:00, 450.19it/s]\n"
     ]
    },
    {
     "name": "stdout",
     "output_type": "stream",
     "text": [
      "\n",
      "Semaine 82 : 2024-07-22 à 2024-07-29\n",
      "→ Calcul des performances de 2024-07-15 à 2024-07-22\n"
     ]
    },
    {
     "name": "stderr",
     "output_type": "stream",
     "text": [
      "/Users/adam/anaconda3/lib/python3.11/site-packages/sklearn/cluster/_kmeans.py:1412: FutureWarning: The default value of `n_init` will change from 10 to 'auto' in 1.4. Set the value of `n_init` explicitly to suppress the warning\n",
      "  super()._check_params_vs_input(X, default_n_init=10)\n",
      "Equity Only: Traitement: 100%|██████████| 115/115 [00:00<00:00, 258.71it/s]\n",
      "Equity Only: Prédictions: 100%|██████████| 115/115 [00:00<00:00, 488.74it/s]\n"
     ]
    },
    {
     "name": "stdout",
     "output_type": "stream",
     "text": [
      "\n",
      "Semaine 83 : 2024-07-29 à 2024-08-05\n",
      "→ Calcul des performances de 2024-07-22 à 2024-07-29\n"
     ]
    },
    {
     "name": "stderr",
     "output_type": "stream",
     "text": [
      "/Users/adam/anaconda3/lib/python3.11/site-packages/sklearn/cluster/_kmeans.py:1412: FutureWarning: The default value of `n_init` will change from 10 to 'auto' in 1.4. Set the value of `n_init` explicitly to suppress the warning\n",
      "  super()._check_params_vs_input(X, default_n_init=10)\n",
      "Equity Only: Traitement: 100%|██████████| 115/115 [00:00<00:00, 268.38it/s]\n",
      "Equity Only: Prédictions: 100%|██████████| 115/115 [00:00<00:00, 414.90it/s]\n"
     ]
    },
    {
     "name": "stdout",
     "output_type": "stream",
     "text": [
      "\n",
      "Semaine 84 : 2024-08-05 à 2024-08-12\n",
      "→ Calcul des performances de 2024-07-29 à 2024-08-05\n"
     ]
    },
    {
     "name": "stderr",
     "output_type": "stream",
     "text": [
      "/Users/adam/anaconda3/lib/python3.11/site-packages/sklearn/cluster/_kmeans.py:1412: FutureWarning: The default value of `n_init` will change from 10 to 'auto' in 1.4. Set the value of `n_init` explicitly to suppress the warning\n",
      "  super()._check_params_vs_input(X, default_n_init=10)\n",
      "Equity Only: Traitement: 100%|██████████| 115/115 [00:00<00:00, 293.13it/s]\n",
      "Equity Only: Prédictions: 100%|██████████| 115/115 [00:00<00:00, 462.45it/s]\n"
     ]
    },
    {
     "name": "stdout",
     "output_type": "stream",
     "text": [
      "\n",
      "Semaine 85 : 2024-08-12 à 2024-08-19\n",
      "→ Calcul des performances de 2024-08-05 à 2024-08-12\n"
     ]
    },
    {
     "name": "stderr",
     "output_type": "stream",
     "text": [
      "/Users/adam/anaconda3/lib/python3.11/site-packages/sklearn/cluster/_kmeans.py:1412: FutureWarning: The default value of `n_init` will change from 10 to 'auto' in 1.4. Set the value of `n_init` explicitly to suppress the warning\n",
      "  super()._check_params_vs_input(X, default_n_init=10)\n",
      "Equity Only: Traitement: 100%|██████████| 115/115 [00:00<00:00, 281.70it/s]\n",
      "Equity Only: Prédictions: 100%|██████████| 115/115 [00:00<00:00, 479.71it/s]\n"
     ]
    },
    {
     "name": "stdout",
     "output_type": "stream",
     "text": [
      "\n",
      "Semaine 86 : 2024-08-19 à 2024-08-26\n",
      "→ Calcul des performances de 2024-08-12 à 2024-08-19\n"
     ]
    },
    {
     "name": "stderr",
     "output_type": "stream",
     "text": [
      "/Users/adam/anaconda3/lib/python3.11/site-packages/sklearn/cluster/_kmeans.py:1412: FutureWarning: The default value of `n_init` will change from 10 to 'auto' in 1.4. Set the value of `n_init` explicitly to suppress the warning\n",
      "  super()._check_params_vs_input(X, default_n_init=10)\n",
      "Equity Only: Traitement: 100%|██████████| 115/115 [00:00<00:00, 258.95it/s]\n",
      "Equity Only: Prédictions: 100%|██████████| 115/115 [00:00<00:00, 497.56it/s]\n"
     ]
    },
    {
     "name": "stdout",
     "output_type": "stream",
     "text": [
      "\n",
      "Semaine 87 : 2024-08-26 à 2024-09-02\n",
      "→ Calcul des performances de 2024-08-19 à 2024-08-26\n"
     ]
    },
    {
     "name": "stderr",
     "output_type": "stream",
     "text": [
      "/Users/adam/anaconda3/lib/python3.11/site-packages/sklearn/cluster/_kmeans.py:1412: FutureWarning: The default value of `n_init` will change from 10 to 'auto' in 1.4. Set the value of `n_init` explicitly to suppress the warning\n",
      "  super()._check_params_vs_input(X, default_n_init=10)\n",
      "Equity Only: Traitement: 100%|██████████| 115/115 [00:00<00:00, 285.60it/s]\n",
      "Equity Only: Prédictions: 100%|██████████| 115/115 [00:00<00:00, 414.28it/s]\n"
     ]
    },
    {
     "name": "stdout",
     "output_type": "stream",
     "text": [
      "\n",
      "Semaine 88 : 2024-09-02 à 2024-09-09\n",
      "→ Calcul des performances de 2024-08-26 à 2024-09-02\n"
     ]
    },
    {
     "name": "stderr",
     "output_type": "stream",
     "text": [
      "/Users/adam/anaconda3/lib/python3.11/site-packages/sklearn/cluster/_kmeans.py:1412: FutureWarning: The default value of `n_init` will change from 10 to 'auto' in 1.4. Set the value of `n_init` explicitly to suppress the warning\n",
      "  super()._check_params_vs_input(X, default_n_init=10)\n",
      "Equity Only: Traitement: 100%|██████████| 115/115 [00:00<00:00, 296.20it/s]\n",
      "Equity Only: Prédictions: 100%|██████████| 115/115 [00:00<00:00, 495.77it/s]\n"
     ]
    },
    {
     "name": "stdout",
     "output_type": "stream",
     "text": [
      "\n",
      "Semaine 89 : 2024-09-09 à 2024-09-16\n",
      "→ Calcul des performances de 2024-09-02 à 2024-09-09\n"
     ]
    },
    {
     "name": "stderr",
     "output_type": "stream",
     "text": [
      "/Users/adam/anaconda3/lib/python3.11/site-packages/sklearn/cluster/_kmeans.py:1412: FutureWarning: The default value of `n_init` will change from 10 to 'auto' in 1.4. Set the value of `n_init` explicitly to suppress the warning\n",
      "  super()._check_params_vs_input(X, default_n_init=10)\n",
      "Equity Only: Traitement: 100%|██████████| 115/115 [00:00<00:00, 259.24it/s]\n",
      "Equity Only: Prédictions: 100%|██████████| 115/115 [00:00<00:00, 505.62it/s]\n"
     ]
    },
    {
     "name": "stdout",
     "output_type": "stream",
     "text": [
      "\n",
      "Semaine 90 : 2024-09-16 à 2024-09-23\n",
      "→ Calcul des performances de 2024-09-09 à 2024-09-16\n"
     ]
    },
    {
     "name": "stderr",
     "output_type": "stream",
     "text": [
      "/Users/adam/anaconda3/lib/python3.11/site-packages/sklearn/cluster/_kmeans.py:1412: FutureWarning: The default value of `n_init` will change from 10 to 'auto' in 1.4. Set the value of `n_init` explicitly to suppress the warning\n",
      "  super()._check_params_vs_input(X, default_n_init=10)\n",
      "Equity Only: Traitement: 100%|██████████| 115/115 [00:00<00:00, 284.91it/s]\n",
      "Equity Only: Prédictions: 100%|██████████| 115/115 [00:00<00:00, 440.51it/s]\n"
     ]
    },
    {
     "name": "stdout",
     "output_type": "stream",
     "text": [
      "\n",
      "Semaine 91 : 2024-09-23 à 2024-09-30\n",
      "→ Calcul des performances de 2024-09-16 à 2024-09-23\n"
     ]
    },
    {
     "name": "stderr",
     "output_type": "stream",
     "text": [
      "/Users/adam/anaconda3/lib/python3.11/site-packages/sklearn/cluster/_kmeans.py:1412: FutureWarning: The default value of `n_init` will change from 10 to 'auto' in 1.4. Set the value of `n_init` explicitly to suppress the warning\n",
      "  super()._check_params_vs_input(X, default_n_init=10)\n",
      "Equity Only: Traitement: 100%|██████████| 115/115 [00:00<00:00, 286.54it/s]\n",
      "Equity Only: Prédictions: 100%|██████████| 115/115 [00:00<00:00, 530.98it/s]\n"
     ]
    },
    {
     "name": "stdout",
     "output_type": "stream",
     "text": [
      "\n",
      "Semaine 92 : 2024-09-30 à 2024-10-07\n",
      "→ Calcul des performances de 2024-09-23 à 2024-09-30\n"
     ]
    },
    {
     "name": "stderr",
     "output_type": "stream",
     "text": [
      "/Users/adam/anaconda3/lib/python3.11/site-packages/sklearn/cluster/_kmeans.py:1412: FutureWarning: The default value of `n_init` will change from 10 to 'auto' in 1.4. Set the value of `n_init` explicitly to suppress the warning\n",
      "  super()._check_params_vs_input(X, default_n_init=10)\n",
      "Equity Only: Traitement: 100%|██████████| 115/115 [00:00<00:00, 284.73it/s]\n",
      "Equity Only: Prédictions: 100%|██████████| 115/115 [00:00<00:00, 515.55it/s]\n"
     ]
    },
    {
     "name": "stdout",
     "output_type": "stream",
     "text": [
      "\n",
      "Semaine 93 : 2024-10-07 à 2024-10-14\n",
      "→ Calcul des performances de 2024-09-30 à 2024-10-07\n"
     ]
    },
    {
     "name": "stderr",
     "output_type": "stream",
     "text": [
      "/Users/adam/anaconda3/lib/python3.11/site-packages/sklearn/cluster/_kmeans.py:1412: FutureWarning: The default value of `n_init` will change from 10 to 'auto' in 1.4. Set the value of `n_init` explicitly to suppress the warning\n",
      "  super()._check_params_vs_input(X, default_n_init=10)\n",
      "Equity Only: Traitement: 100%|██████████| 115/115 [00:00<00:00, 268.23it/s]\n",
      "Equity Only: Prédictions: 100%|██████████| 115/115 [00:00<00:00, 521.06it/s]\n"
     ]
    },
    {
     "name": "stdout",
     "output_type": "stream",
     "text": [
      "\n",
      "Semaine 94 : 2024-10-14 à 2024-10-21\n",
      "→ Calcul des performances de 2024-10-07 à 2024-10-14\n"
     ]
    },
    {
     "name": "stderr",
     "output_type": "stream",
     "text": [
      "/Users/adam/anaconda3/lib/python3.11/site-packages/sklearn/cluster/_kmeans.py:1412: FutureWarning: The default value of `n_init` will change from 10 to 'auto' in 1.4. Set the value of `n_init` explicitly to suppress the warning\n",
      "  super()._check_params_vs_input(X, default_n_init=10)\n",
      "Equity Only: Traitement: 100%|██████████| 115/115 [00:00<00:00, 288.93it/s]\n",
      "Equity Only: Prédictions: 100%|██████████| 115/115 [00:00<00:00, 433.30it/s]\n"
     ]
    },
    {
     "name": "stdout",
     "output_type": "stream",
     "text": [
      "\n",
      "Semaine 95 : 2024-10-21 à 2024-10-28\n",
      "→ Calcul des performances de 2024-10-14 à 2024-10-21\n"
     ]
    },
    {
     "name": "stderr",
     "output_type": "stream",
     "text": [
      "/Users/adam/anaconda3/lib/python3.11/site-packages/sklearn/cluster/_kmeans.py:1412: FutureWarning: The default value of `n_init` will change from 10 to 'auto' in 1.4. Set the value of `n_init` explicitly to suppress the warning\n",
      "  super()._check_params_vs_input(X, default_n_init=10)\n",
      "Equity Only: Traitement: 100%|██████████| 115/115 [00:00<00:00, 282.69it/s]\n",
      "Equity Only: Prédictions: 100%|██████████| 115/115 [00:00<00:00, 519.37it/s]\n"
     ]
    },
    {
     "name": "stdout",
     "output_type": "stream",
     "text": [
      "\n",
      "Semaine 96 : 2024-10-28 à 2024-11-04\n",
      "→ Calcul des performances de 2024-10-21 à 2024-10-28\n"
     ]
    },
    {
     "name": "stderr",
     "output_type": "stream",
     "text": [
      "/Users/adam/anaconda3/lib/python3.11/site-packages/sklearn/cluster/_kmeans.py:1412: FutureWarning: The default value of `n_init` will change from 10 to 'auto' in 1.4. Set the value of `n_init` explicitly to suppress the warning\n",
      "  super()._check_params_vs_input(X, default_n_init=10)\n",
      "Equity Only: Traitement: 100%|██████████| 115/115 [00:00<00:00, 287.10it/s]\n",
      "Equity Only: Prédictions: 100%|██████████| 115/115 [00:00<00:00, 499.14it/s]\n"
     ]
    },
    {
     "name": "stdout",
     "output_type": "stream",
     "text": [
      "\n",
      "Semaine 97 : 2024-11-04 à 2024-11-11\n",
      "→ Calcul des performances de 2024-10-28 à 2024-11-04\n"
     ]
    },
    {
     "name": "stderr",
     "output_type": "stream",
     "text": [
      "/Users/adam/anaconda3/lib/python3.11/site-packages/sklearn/cluster/_kmeans.py:1412: FutureWarning: The default value of `n_init` will change from 10 to 'auto' in 1.4. Set the value of `n_init` explicitly to suppress the warning\n",
      "  super()._check_params_vs_input(X, default_n_init=10)\n",
      "Equity Only: Traitement: 100%|██████████| 115/115 [00:00<00:00, 268.48it/s]\n",
      "Equity Only: Prédictions: 100%|██████████| 115/115 [00:00<00:00, 517.02it/s]\n"
     ]
    },
    {
     "name": "stdout",
     "output_type": "stream",
     "text": [
      "\n",
      "Semaine 98 : 2024-11-11 à 2024-11-18\n",
      "→ Calcul des performances de 2024-11-04 à 2024-11-11\n"
     ]
    },
    {
     "name": "stderr",
     "output_type": "stream",
     "text": [
      "/Users/adam/anaconda3/lib/python3.11/site-packages/sklearn/cluster/_kmeans.py:1412: FutureWarning: The default value of `n_init` will change from 10 to 'auto' in 1.4. Set the value of `n_init` explicitly to suppress the warning\n",
      "  super()._check_params_vs_input(X, default_n_init=10)\n",
      "Equity Only: Traitement: 100%|██████████| 115/115 [00:00<00:00, 286.52it/s]\n",
      "Equity Only: Prédictions: 100%|██████████| 115/115 [00:00<00:00, 498.26it/s]\n"
     ]
    },
    {
     "name": "stdout",
     "output_type": "stream",
     "text": [
      "\n",
      "Semaine 99 : 2024-11-18 à 2024-11-25\n",
      "→ Calcul des performances de 2024-11-11 à 2024-11-18\n"
     ]
    },
    {
     "name": "stderr",
     "output_type": "stream",
     "text": [
      "/Users/adam/anaconda3/lib/python3.11/site-packages/sklearn/cluster/_kmeans.py:1412: FutureWarning: The default value of `n_init` will change from 10 to 'auto' in 1.4. Set the value of `n_init` explicitly to suppress the warning\n",
      "  super()._check_params_vs_input(X, default_n_init=10)\n",
      "Equity Only: Traitement: 100%|██████████| 115/115 [00:00<00:00, 273.58it/s]\n",
      "Equity Only: Prédictions: 100%|██████████| 115/115 [00:00<00:00, 488.66it/s]\n"
     ]
    },
    {
     "name": "stdout",
     "output_type": "stream",
     "text": [
      "\n",
      "Semaine 100 : 2024-11-25 à 2024-12-02\n",
      "→ Calcul des performances de 2024-11-18 à 2024-11-25\n"
     ]
    },
    {
     "name": "stderr",
     "output_type": "stream",
     "text": [
      "/Users/adam/anaconda3/lib/python3.11/site-packages/sklearn/cluster/_kmeans.py:1412: FutureWarning: The default value of `n_init` will change from 10 to 'auto' in 1.4. Set the value of `n_init` explicitly to suppress the warning\n",
      "  super()._check_params_vs_input(X, default_n_init=10)\n",
      "Equity Only: Traitement: 100%|██████████| 115/115 [00:00<00:00, 262.09it/s]\n",
      "Equity Only: Prédictions: 100%|██████████| 115/115 [00:00<00:00, 493.82it/s]\n"
     ]
    },
    {
     "name": "stdout",
     "output_type": "stream",
     "text": [
      "\n",
      "Semaine 101 : 2024-12-02 à 2024-12-09\n",
      "→ Calcul des performances de 2024-11-25 à 2024-12-02\n"
     ]
    },
    {
     "name": "stderr",
     "output_type": "stream",
     "text": [
      "/Users/adam/anaconda3/lib/python3.11/site-packages/sklearn/cluster/_kmeans.py:1412: FutureWarning: The default value of `n_init` will change from 10 to 'auto' in 1.4. Set the value of `n_init` explicitly to suppress the warning\n",
      "  super()._check_params_vs_input(X, default_n_init=10)\n",
      "Equity Only: Traitement: 100%|██████████| 115/115 [00:00<00:00, 295.15it/s]\n",
      "Equity Only: Prédictions: 100%|██████████| 115/115 [00:00<00:00, 424.15it/s]\n"
     ]
    },
    {
     "name": "stdout",
     "output_type": "stream",
     "text": [
      "\n",
      "Semaine 102 : 2024-12-09 à 2024-12-16\n",
      "→ Calcul des performances de 2024-12-02 à 2024-12-09\n"
     ]
    },
    {
     "name": "stderr",
     "output_type": "stream",
     "text": [
      "/Users/adam/anaconda3/lib/python3.11/site-packages/sklearn/cluster/_kmeans.py:1412: FutureWarning: The default value of `n_init` will change from 10 to 'auto' in 1.4. Set the value of `n_init` explicitly to suppress the warning\n",
      "  super()._check_params_vs_input(X, default_n_init=10)\n",
      "Equity Only: Traitement: 100%|██████████| 115/115 [00:00<00:00, 286.13it/s]\n",
      "Equity Only: Prédictions: 100%|██████████| 115/115 [00:00<00:00, 489.34it/s]\n"
     ]
    },
    {
     "name": "stdout",
     "output_type": "stream",
     "text": [
      "\n",
      "Semaine 103 : 2024-12-16 à 2024-12-23\n",
      "→ Calcul des performances de 2024-12-09 à 2024-12-16\n"
     ]
    },
    {
     "name": "stderr",
     "output_type": "stream",
     "text": [
      "/Users/adam/anaconda3/lib/python3.11/site-packages/sklearn/cluster/_kmeans.py:1412: FutureWarning: The default value of `n_init` will change from 10 to 'auto' in 1.4. Set the value of `n_init` explicitly to suppress the warning\n",
      "  super()._check_params_vs_input(X, default_n_init=10)\n",
      "Equity Only: Traitement: 100%|██████████| 115/115 [00:00<00:00, 286.70it/s]\n",
      "Equity Only: Prédictions: 100%|██████████| 115/115 [00:00<00:00, 502.65it/s]\n"
     ]
    },
    {
     "name": "stdout",
     "output_type": "stream",
     "text": [
      "\n",
      "Semaine 104 : 2024-12-23 à 2024-12-30\n",
      "→ Calcul des performances de 2024-12-16 à 2024-12-23\n"
     ]
    },
    {
     "name": "stderr",
     "output_type": "stream",
     "text": [
      "/Users/adam/anaconda3/lib/python3.11/site-packages/sklearn/cluster/_kmeans.py:1412: FutureWarning: The default value of `n_init` will change from 10 to 'auto' in 1.4. Set the value of `n_init` explicitly to suppress the warning\n",
      "  super()._check_params_vs_input(X, default_n_init=10)\n",
      "Equity Only: Traitement: 100%|██████████| 115/115 [00:00<00:00, 283.26it/s]\n",
      "Equity Only: Prédictions: 100%|██████████| 115/115 [00:00<00:00, 460.95it/s]\n"
     ]
    },
    {
     "name": "stdout",
     "output_type": "stream",
     "text": [
      "Calcul des performances de 2024-12-23 à 2024-12-30\n",
      "\n",
      "Dernière période : Calcul des performances de 2024-12-23 à 2024-12-30\n",
      "\n",
      "Rapport Excel généré avec trois feuilles :\n",
      "1) 'Performances Hebdomadaires'\n",
      "2) 'Performance Agrégée' (agrégation par portefeuille)\n",
      "3) 'Charts' (graphique(s) ajoutés)\n"
     ]
    }
   ],
   "source": [
    "import pandas as pd\n",
    "from datetime import datetime, timedelta\n",
    "import base_builder\n",
    "import base_update\n",
    "import performances\n",
    "from tqdm.auto import tqdm\n",
    "import strategies\n",
    "import os \n",
    "\n",
    "\n",
    "# Suppression de la base de données si elle existe déjà\n",
    "# pour éviter les conflits lors de la création\n",
    "db_file = \"fund_database.db\"\n",
    "if os.path.exists(db_file):\n",
    "    os.remove(db_file)\n",
    "\n",
    "def get_mondays_between(start_date_str, end_date_str):\n",
    "    start_date = datetime.strptime(start_date_str, \"%Y-%m-%d\")\n",
    "    end_date = datetime.strptime(end_date_str, \"%Y-%m-%d\")\n",
    "    days_to_next_monday = (7 - start_date.weekday()) % 7\n",
    "    next_monday = start_date if days_to_next_monday == 0 else start_date + timedelta(days=days_to_next_monday)\n",
    "    mondays = []\n",
    "    current = next_monday\n",
    "    while current <= end_date:\n",
    "        mondays.append(current.strftime(\"%Y-%m-%d\"))\n",
    "        current += timedelta(days=7)\n",
    "    return mondays\n",
    "\n",
    "def initialize_databases():\n",
    "    print(\"=== Initialisation des bases de données ===\")\n",
    "    base_builder.create_tables()\n",
    "    try:\n",
    "        n_low_risk = int(input(\"Nombre de clients Low risk : \"))\n",
    "        n_low_turnover = int(input(\"Nombre de clients Low turnover : \"))\n",
    "        n_high_yield = int(input(\"Nombre de clients High yield equity only : \"))\n",
    "    except ValueError:\n",
    "        print(\"Erreur : veuillez saisir des nombres entiers pour les clients.\")\n",
    "        return False\n",
    "    base_builder.generate_clients(n_low_risk, n_low_turnover, n_high_yield)\n",
    "    base_builder.generate_managers()\n",
    "    base_builder.generate_portfolios(n_low_risk, n_low_turnover, n_high_yield)\n",
    "    print(\"Bases de données initialisées.\\n\")\n",
    "    import data_collector #Le module contient du code qui se lance automatiquement à l'import, il ne faut pas supprimer cet import\n",
    "    return True\n",
    "\n",
    "\n",
    "def main():\n",
    "    nbtrees = 100   # Nombre d'arbres à utiliser pour la stratégie Equity Only\n",
    "    start_date_str = \"2023-01-01\" #Date de \"création\" du fonds\n",
    "    end_date_str = \"2024-12-31\" #Date de fin du fonds\n",
    "    mondays = get_mondays_between(start_date_str, end_date_str)\n",
    "    if len(mondays) < 2:\n",
    "        print(\"La période définie ne permet pas de générer au moins une période hebdomadaire.\")\n",
    "        return\n",
    "    if not initialize_databases():\n",
    "        return\n",
    "    \n",
    "    perf_par_semaine = {}\n",
    "    \n",
    "\n",
    "    for i in tqdm(range(len(mondays)), desc=\"Traitement des périodes\", unit=\"période\"): # Lancement du traitement\n",
    "        if i == 0:\n",
    "            base_update.update_profiles_table(\n",
    "                mondays[i],\n",
    "                (datetime.strptime(mondays[i], \"%Y-%m-%d\") - timedelta(days=1)).strftime(\"%Y-%m-%d\"),\n",
    "                nbtrees\n",
    "            )\n",
    "            #End_Date correspond à 1 jour avant le lundi du lancement des stratégies pour éviter le look-forward bias\n",
    "            \n",
    "        elif i < len(mondays) - 1:\n",
    "            start_perf = mondays[i-1]\n",
    "            end_perf = mondays[i]\n",
    "            print(f\"\\nSemaine {i+1} : {mondays[i]} à {mondays[i+1]}\")\n",
    "            print(f\"→ Calcul des performances de {start_perf} à {end_perf}\")\n",
    "            df_perf = performances.calculer_performance_semaine(start_perf, end_perf)\n",
    "            key = f\"{start_perf} to {end_perf}\"\n",
    "            perf_par_semaine[key] = df_perf\n",
    "            base_update.update_profiles_table(\n",
    "                mondays[i],\n",
    "                (datetime.strptime(mondays[i], \"%Y-%m-%d\") - timedelta(days=1)).strftime(\"%Y-%m-%d\"),\n",
    "                nbtrees\n",
    "            ) \n",
    "            #End_Date correspond à 1 jour avant le lundi du lancement des stratégies pour éviter le look-forward bias\n",
    "        else:\n",
    "            start_perf = mondays[i-1]\n",
    "            end_perf = mondays[i]\n",
    "            print(f\"Calcul des performances de {start_perf} à {end_perf}\")\n",
    "            print(f\"\\nDernière période : Calcul des performances de {start_perf} à {end_perf}\")\n",
    "            df_perf = performances.calculer_performance_semaine(start_perf, end_perf)\n",
    "            key = f\"{start_perf} to {end_perf}\"\n",
    "            perf_par_semaine[key] = df_perf\n",
    "\n",
    "    if perf_par_semaine:\n",
    "        df_total = pd.concat(perf_par_semaine.values(), keys=perf_par_semaine.keys())\n",
    "        df_total.index.names = [\"Période\", \"Index\"]\n",
    "        \n",
    "        # Formatage en pourcentage pour les données hebdomadaires\n",
    "        df_total_formatted = df_total.copy()\n",
    "        percentage_cols = ['rendement', 'volatilite', 'alpha']\n",
    "        for col in df_total_formatted.columns:\n",
    "            if pd.api.types.is_numeric_dtype(df_total_formatted[col]) and col != 'portfolio_id':\n",
    "                if col in percentage_cols:\n",
    "                    df_total_formatted[col] = (df_total_formatted[col] * 100).map(\"{:.2f}%\".format)\n",
    "                else:\n",
    "                    df_total_formatted[col] = df_total_formatted[col].map(\"{:.2f}\".format)\n",
    "            else:\n",
    "                df_total_formatted[col] = df_total_formatted[col].astype(str)\n",
    "        \n",
    "        # Formatage en pourcentage pour l'agrégation globale par portefeuille\n",
    "        aggregated_by_portfolio = performances.compute_aggregated_performance_by_portfolio(df_total)\n",
    "        aggregated_by_portfolio_formatted = aggregated_by_portfolio.copy()\n",
    "        percentage_cols_port = ['aggregated_return', 'aggregated_volatility', 'aggregated_alpha']\n",
    "        for col in aggregated_by_portfolio_formatted.columns:\n",
    "            if pd.api.types.is_numeric_dtype(aggregated_by_portfolio_formatted[col]) and col != 'profil':\n",
    "                if col in percentage_cols_port:\n",
    "                    aggregated_by_portfolio_formatted[col] = (aggregated_by_portfolio_formatted[col] * 100).map(\"{:.2f}%\".format)\n",
    "                else:\n",
    "                    aggregated_by_portfolio_formatted[col] = aggregated_by_portfolio_formatted[col].map(\"{:.2f}\".format)\n",
    "            else:\n",
    "                aggregated_by_portfolio_formatted[col] = aggregated_by_portfolio_formatted[col].astype(str)\n",
    "        \n",
    "        with pd.ExcelWriter(\"rapport_performances.xlsx\", engine=\"xlsxwriter\") as writer:\n",
    "            # Export du DataFrame hebdomadaire avec l'index\n",
    "            df_total_formatted.to_excel(writer, sheet_name=\"Performances Hebdomadaires\", index=True)\n",
    "            \n",
    "            # Agrégation par portefeuille\n",
    "            aggregated_by_portfolio = performances.compute_aggregated_performance_by_portfolio(df_total)\n",
    "            # Formatage pour l'agrégation par portefeuille\n",
    "            aggregated_by_portfolio_formatted = aggregated_by_portfolio.copy()\n",
    "            percentage_cols_port = ['aggregated_return', 'aggregated_volatility', 'aggregated_alpha']\n",
    "            for col in aggregated_by_portfolio_formatted.columns:\n",
    "                if pd.api.types.is_numeric_dtype(aggregated_by_portfolio_formatted[col]) and col != 'profil':\n",
    "                    if col in percentage_cols_port:\n",
    "                        aggregated_by_portfolio_formatted[col] = (aggregated_by_portfolio_formatted[col] * 100).map(\"{:.2f}%\".format)\n",
    "                    else:\n",
    "                        aggregated_by_portfolio_formatted[col] = aggregated_by_portfolio_formatted[col].map(\"{:.2f}\".format)\n",
    "                else:\n",
    "                    aggregated_by_portfolio_formatted[col] = aggregated_by_portfolio_formatted[col].astype(str)\n",
    "            \n",
    "            aggregated_by_portfolio_formatted.to_excel(writer, sheet_name=\"Performance Agrégée\", index=False)\n",
    "            \n",
    "            # Ajout des graphiques \n",
    "            performances.add_charts_by_profile_to_excel(writer, df_total)\n",
    "            \n",
    "            workbook  = writer.book\n",
    "            header_format = workbook.add_format({\n",
    "                'bold': True,\n",
    "                'text_wrap': True,\n",
    "                'valign': 'top',\n",
    "                'fg_color': '#D7E4BC',\n",
    "                'border': 1\n",
    "            })\n",
    "            \n",
    "            # Mise en forme pour \"Performances Hebdomadaires\"\n",
    "            worksheet_ph = writer.sheets[\"Performances Hebdomadaires\"]\n",
    "            df_ph_no_index = df_total_formatted.reset_index()\n",
    "            for col_num, value in enumerate(df_ph_no_index.columns.values):\n",
    "                worksheet_ph.write(0, col_num, value, header_format)\n",
    "            for i, col in enumerate(df_ph_no_index.columns):\n",
    "                max_len = max(df_ph_no_index[col].astype(str).map(len).max(), len(str(col))) + 2\n",
    "                worksheet_ph.set_column(i, i, max_len)\n",
    "            \n",
    "            # Mise en forme pour \"Performance Agrégée\"\n",
    "            worksheet_pa = writer.sheets[\"Performance Agrégée\"]\n",
    "            for col_num, value in enumerate(aggregated_by_portfolio_formatted.columns.values):\n",
    "                worksheet_pa.write(0, col_num, value, header_format)\n",
    "            for i, col in enumerate(aggregated_by_portfolio_formatted.columns):\n",
    "                max_len = max(aggregated_by_portfolio_formatted[col].astype(str).map(len).max(), len(str(col))) + 2\n",
    "                worksheet_pa.set_column(i, i, max_len)\n",
    "\n",
    "            \n",
    "        print(\"\\nRapport Excel généré avec trois feuilles :\")\n",
    "        print(\"1) 'Performances Hebdomadaires'\")\n",
    "        print(\"2) 'Performance Agrégée' (agrégation par portefeuille)\")\n",
    "        print(\"3) 'Charts' (graphique(s) ajoutés)\")\n",
    "    else:\n",
    "        print(\"Aucune performance calculée.\")\n",
    "\n",
    "if __name__ == '__main__':\n",
    "    main()"
   ]
  },
  {
   "cell_type": "code",
   "execution_count": null,
   "metadata": {},
   "outputs": [],
   "source": []
  }
 ],
 "metadata": {
  "kernelspec": {
   "display_name": "base",
   "language": "python",
   "name": "python3"
  },
  "language_info": {
   "codemirror_mode": {
    "name": "ipython",
    "version": 3
   },
   "file_extension": ".py",
   "mimetype": "text/x-python",
   "name": "python",
   "nbconvert_exporter": "python",
   "pygments_lexer": "ipython3",
   "version": "3.11.5"
  }
 },
 "nbformat": 4,
 "nbformat_minor": 2
}
